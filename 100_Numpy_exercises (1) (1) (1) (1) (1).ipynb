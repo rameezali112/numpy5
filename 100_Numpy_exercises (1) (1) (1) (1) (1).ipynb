{
 "cells": [
  {
   "cell_type": "markdown",
   "id": "6293cc50",
   "metadata": {},
   "source": [
    "# 100 numpy exercises\n",
    "\n",
    "This is a collection of exercises that have perform."
   ]
  },
  {
   "cell_type": "markdown",
   "id": "a167c052",
   "metadata": {},
   "source": [
    "File automatically generated. See the documentation to update questions/answers/hints programmatically."
   ]
  },
  {
   "cell_type": "markdown",
   "id": "3c1222ff",
   "metadata": {},
   "source": [
    "#### 1. Import the numpy package under the name `np` (★☆☆)"
   ]
  },
  {
   "cell_type": "code",
   "execution_count": 3,
   "id": "f52e6a0b",
   "metadata": {},
   "outputs": [],
   "source": [
    "import numpy as np"
   ]
  },
  {
   "cell_type": "markdown",
   "id": "9d9f4753",
   "metadata": {},
   "source": [
    "#### 2. Print the numpy version and the configuration (★☆☆)"
   ]
  },
  {
   "cell_type": "code",
   "execution_count": 7,
   "id": "b7fa5fa1",
   "metadata": {},
   "outputs": [
    {
     "data": {
      "text/plain": [
       "('1.23.5', <function numpy.__config__.show()>)"
      ]
     },
     "execution_count": 7,
     "metadata": {},
     "output_type": "execute_result"
    }
   ],
   "source": []
  },
  {
   "cell_type": "markdown",
   "id": "3e4c23c6",
   "metadata": {},
   "source": [
    "#### 3. Create a null vector of size 10 (★☆☆)"
   ]
  },
  {
   "cell_type": "code",
   "execution_count": 17,
   "id": "083c5c46",
   "metadata": {},
   "outputs": [
    {
     "data": {
      "text/plain": [
       "array([0., 0., 0., 0., 0., 0., 0., 0., 0., 0.])"
      ]
     },
     "execution_count": 17,
     "metadata": {},
     "output_type": "execute_result"
    }
   ],
   "source": [
    "import numpy as np\n",
    "vector1 = np.linspace(0,0,10)\n",
    "vector1"
   ]
  },
  {
   "cell_type": "markdown",
   "id": "c38bbe82",
   "metadata": {},
   "source": [
    "#### 4. How to find the memory size of any array (★☆☆)"
   ]
  },
  {
   "cell_type": "code",
   "execution_count": 28,
   "id": "02b04021",
   "metadata": {},
   "outputs": [
    {
     "name": "stdout",
     "output_type": "stream",
     "text": [
      "Memory size of the NumPy array: 20 bytes\n"
     ]
    }
   ],
   "source": [
    "import numpy as np\n",
    "\n",
    "def get_numpy_array_size(arr):\n",
    "  return arr.size * arr.itemsize\n",
    "\n",
    "# Example usage:\n",
    "my_array = np.array([1, 2, 3, 4, 5])\n",
    "memory_size = get_numpy_array_size(my_array)\n",
    "print(\"Memory size of the NumPy array:\", memory_size, \"bytes\")"
   ]
  },
  {
   "cell_type": "markdown",
   "id": "67f893d4",
   "metadata": {},
   "source": [
    "#### 5. How to get the documentation of the numpy add function from the command line? (★☆☆)"
   ]
  },
  {
   "cell_type": "code",
   "execution_count": 30,
   "id": "40e6b70d",
   "metadata": {},
   "outputs": [
    {
     "name": "stdout",
     "output_type": "stream",
     "text": [
      "Help on ufunc:\n",
      "\n",
      "add = <ufunc 'add'>\n",
      "    add(x1, x2, /, out=None, *, where=True, casting='same_kind', order='K', dtype=None, subok=True[, signature, extobj])\n",
      "\n",
      "    Add arguments element-wise.\n",
      "\n",
      "    Parameters\n",
      "    ----------\n",
      "    x1, x2 : array_like\n",
      "        The arrays to be added.\n",
      "        If ``x1.shape != x2.shape``, they must be broadcastable to a common\n",
      "        shape (which becomes the shape of the output).\n",
      "    out : ndarray, None, or tuple of ndarray and None, optional\n",
      "        A location into which the result is stored. If provided, it must have\n",
      "        a shape that the inputs broadcast to. If not provided or None,\n",
      "        a freshly-allocated array is returned. A tuple (possible only as a\n",
      "        keyword argument) must have length equal to the number of outputs.\n",
      "    where : array_like, optional\n",
      "        This condition is broadcast over the input. At locations where the\n",
      "        condition is True, the `out` array will be set to the ufunc result.\n",
      "        Elsewhere, the `out` array will retain its original value.\n",
      "        Note that if an uninitialized `out` array is created via the default\n",
      "        ``out=None``, locations within it where the condition is False will\n",
      "        remain uninitialized.\n",
      "    **kwargs\n",
      "        For other keyword-only arguments, see the\n",
      "        :ref:`ufunc docs <ufuncs.kwargs>`.\n",
      "\n",
      "    Returns\n",
      "    -------\n",
      "    add : ndarray or scalar\n",
      "        The sum of `x1` and `x2`, element-wise.\n",
      "        This is a scalar if both `x1` and `x2` are scalars.\n",
      "\n",
      "    Notes\n",
      "    -----\n",
      "    Equivalent to `x1` + `x2` in terms of array broadcasting.\n",
      "\n",
      "    Examples\n",
      "    --------\n",
      "    >>> np.add(1.0, 4.0)\n",
      "    5.0\n",
      "    >>> x1 = np.arange(9.0).reshape((3, 3))\n",
      "    >>> x2 = np.arange(3.0)\n",
      "    >>> np.add(x1, x2)\n",
      "    array([[  0.,   2.,   4.],\n",
      "           [  3.,   5.,   7.],\n",
      "           [  6.,   8.,  10.]])\n",
      "\n",
      "    The ``+`` operator can be used as a shorthand for ``np.add`` on ndarrays.\n",
      "\n",
      "    >>> x1 = np.arange(9.0).reshape((3, 3))\n",
      "    >>> x2 = np.arange(3.0)\n",
      "    >>> x1 + x2\n",
      "    array([[ 0.,  2.,  4.],\n",
      "           [ 3.,  5.,  7.],\n",
      "           [ 6.,  8., 10.]])\n",
      "\n"
     ]
    }
   ],
   "source": [
    "import numpy as np\n",
    "help(np.add)"
   ]
  },
  {
   "cell_type": "markdown",
   "id": "e0c739c6",
   "metadata": {},
   "source": [
    "#### 6. Create a null vector of size 10 but the fifth value which is 1 (★☆☆)"
   ]
  },
  {
   "cell_type": "code",
   "execution_count": 45,
   "id": "bcceacf7",
   "metadata": {},
   "outputs": [
    {
     "name": "stdout",
     "output_type": "stream",
     "text": [
      "[0. 0. 0. 0. 1. 0. 0. 0. 0. 0.]\n"
     ]
    }
   ],
   "source": [
    "array = np.linspace(0,0,10)\n",
    "array[4]=1\n",
    "print(array)"
   ]
  },
  {
   "cell_type": "markdown",
   "id": "fbebedab",
   "metadata": {},
   "source": [
    "#### 7. Create a vector with values ranging from 10 to 49 (★☆☆)"
   ]
  },
  {
   "cell_type": "code",
   "execution_count": 55,
   "id": "3d117d54",
   "metadata": {},
   "outputs": [
    {
     "data": {
      "text/plain": [
       "array([10.    , 10.8125, 11.625 , 12.4375, 13.25  , 14.0625, 14.875 ,\n",
       "       15.6875, 16.5   , 17.3125, 18.125 , 18.9375, 19.75  , 20.5625,\n",
       "       21.375 , 22.1875, 23.    , 23.8125, 24.625 , 25.4375, 26.25  ,\n",
       "       27.0625, 27.875 , 28.6875, 29.5   , 30.3125, 31.125 , 31.9375,\n",
       "       32.75  , 33.5625, 34.375 , 35.1875, 36.    , 36.8125, 37.625 ,\n",
       "       38.4375, 39.25  , 40.0625, 40.875 , 41.6875, 42.5   , 43.3125,\n",
       "       44.125 , 44.9375, 45.75  , 46.5625, 47.375 , 48.1875, 49.    ])"
      ]
     },
     "execution_count": 55,
     "metadata": {},
     "output_type": "execute_result"
    }
   ],
   "source": [
    "vector2 = np.linspace(10,49,49)\n",
    "vector2"
   ]
  },
  {
   "cell_type": "markdown",
   "id": "ad0bff02",
   "metadata": {},
   "source": [
    "#### 8. Reverse a vector (first element becomes last) (★☆☆)"
   ]
  },
  {
   "cell_type": "code",
   "execution_count": 63,
   "id": "22d23470",
   "metadata": {},
   "outputs": [
    {
     "data": {
      "text/plain": [
       "array([3, 2, 1])"
      ]
     },
     "execution_count": 63,
     "metadata": {},
     "output_type": "execute_result"
    }
   ],
   "source": [
    "arr1 = [1,2,3]\n",
    "arr1 = np.flip(arr1)\n",
    "arr1"
   ]
  },
  {
   "cell_type": "markdown",
   "id": "9f59d7e1",
   "metadata": {},
   "source": [
    "#### 9. Create a 3x3 matrix with values ranging from 0 to 8 (★☆☆)"
   ]
  },
  {
   "cell_type": "code",
   "execution_count": 71,
   "id": "7449e82d",
   "metadata": {},
   "outputs": [
    {
     "name": "stdout",
     "output_type": "stream",
     "text": [
      "[[0 1 2]\n",
      " [3 4 5]\n",
      " [6 7 8]]\n"
     ]
    }
   ],
   "source": [
    "matrix = np.arange(9).reshape(3, 3)\n",
    "print(matrix)"
   ]
  },
  {
   "cell_type": "markdown",
   "id": "f374c4cf",
   "metadata": {},
   "source": [
    "#### 10. Find indices of non-zero elements from [1,2,0,0,4,0] (★☆☆)"
   ]
  },
  {
   "cell_type": "code",
   "execution_count": 77,
   "id": "1a84bed8",
   "metadata": {},
   "outputs": [
    {
     "name": "stdout",
     "output_type": "stream",
     "text": [
      "[1 2 4]\n"
     ]
    }
   ],
   "source": [
    "arr = np.array([1, 2, 0, 0, 4, 0])\n",
    "non_zero_elements = arr[arr != 0]\n",
    "print(non_zero_elements) "
   ]
  },
  {
   "cell_type": "markdown",
   "id": "9c4707f5",
   "metadata": {},
   "source": [
    "#### 11. Create a 3x3 identity matrix (★☆☆)"
   ]
  },
  {
   "cell_type": "code",
   "execution_count": 83,
   "id": "29dc1fd3",
   "metadata": {},
   "outputs": [
    {
     "name": "stdout",
     "output_type": "stream",
     "text": [
      "[[1. 0. 0.]\n",
      " [0. 1. 0.]\n",
      " [0. 0. 1.]]\n"
     ]
    }
   ],
   "source": [
    "identity_matrix = np.eye(3)\n",
    "print(identity_matrix)"
   ]
  },
  {
   "cell_type": "markdown",
   "id": "3bac294a",
   "metadata": {},
   "source": [
    "#### 12. Create a 3x3x3 array with random values (★☆☆)"
   ]
  },
  {
   "cell_type": "code",
   "execution_count": 101,
   "id": "eadfae67",
   "metadata": {},
   "outputs": [
    {
     "name": "stdout",
     "output_type": "stream",
     "text": [
      "[[[0.96542706 0.44860492 0.99296217]\n",
      "  [0.50411298 0.60458055 0.25657101]\n",
      "  [0.36061324 0.69891537 0.61997184]]\n",
      "\n",
      " [[0.29663781 0.89501415 0.68902278]\n",
      "  [0.60021918 0.25216776 0.68191908]\n",
      "  [0.38887043 0.05581867 0.62763232]]\n",
      "\n",
      " [[0.33738407 0.71136277 0.9896019 ]\n",
      "  [0.32642237 0.12076238 0.30122191]\n",
      "  [0.25309845 0.33706474 0.75966824]]]\n"
     ]
    }
   ],
   "source": [
    "random_array = np.random.rand(3, 3, 3) \n",
    "print(random_array)"
   ]
  },
  {
   "cell_type": "markdown",
   "id": "466c2989",
   "metadata": {},
   "source": [
    "#### 13. Create a 10x10 array with random values and find the minimum and maximum values (★☆☆)"
   ]
  },
  {
   "cell_type": "code",
   "execution_count": 103,
   "id": "9a74dbfc",
   "metadata": {},
   "outputs": [
    {
     "name": "stdout",
     "output_type": "stream",
     "text": [
      "Random array:\n",
      " [[0.73138368 0.91961149 0.94324817 0.50461846 0.72742461 0.31204957\n",
      "  0.71872531 0.43714814 0.3454558  0.75257373]\n",
      " [0.89208645 0.6019565  0.45368558 0.6279787  0.89366411 0.04498574\n",
      "  0.06323052 0.6973628  0.19378823 0.9611348 ]\n",
      " [0.81074647 0.09925249 0.04826197 0.27688274 0.19483303 0.78660444\n",
      "  0.26259582 0.47444612 0.673712   0.34992701]\n",
      " [0.19408114 0.11405961 0.58849779 0.00181769 0.98994506 0.00497801\n",
      "  0.64923037 0.88786082 0.39820455 0.5644153 ]\n",
      " [0.14281143 0.61134339 0.82918877 0.39789609 0.34263244 0.10226961\n",
      "  0.42401794 0.59446951 0.81372563 0.17574956]\n",
      " [0.97503804 0.94932933 0.84277591 0.70534221 0.12657117 0.06172174\n",
      "  0.17626413 0.49297586 0.51703457 0.39686931]\n",
      " [0.54729556 0.11433998 0.27304614 0.87013248 0.67681355 0.63616556\n",
      "  0.68804569 0.68478976 0.58230135 0.0292061 ]\n",
      " [0.88160239 0.14378976 0.62863795 0.80889757 0.61072196 0.66409101\n",
      "  0.71665052 0.2377032  0.88140652 0.39451505]\n",
      " [0.43363177 0.41125032 0.49682011 0.20926115 0.68464056 0.16163602\n",
      "  0.40613811 0.02804811 0.52710406 0.0284141 ]\n",
      " [0.28889207 0.73540267 0.24246639 0.99616803 0.73657376 0.86552476\n",
      "  0.36364707 0.96107565 0.11126507 0.46747304]]\n",
      "Minimum value: 0.0018176941513612377\n",
      "Maximum value: 0.9961680322472448\n"
     ]
    }
   ],
   "source": [
    "# Create a 10x10 array with random values\n",
    "random_array = np.random.rand(10, 10)\n",
    "\n",
    "# Find the minimum and maximum values\n",
    "min_value = np.min(random_array)\n",
    "max_value = np.max(random_array)\n",
    "\n",
    "print(\"Random array:\\n\", random_array)\n",
    "print(\"Minimum value:\", min_value)\n",
    "print(\"Maximum value:\", max_value)"
   ]
  },
  {
   "cell_type": "markdown",
   "id": "53a8edb2",
   "metadata": {},
   "source": [
    "#### 14. Create a random vector of size 30 and find the mean value (★☆☆)"
   ]
  },
  {
   "cell_type": "code",
   "execution_count": 115,
   "id": "6691530b",
   "metadata": {},
   "outputs": [
    {
     "ename": "SyntaxError",
     "evalue": "invalid non-printable character U+00A0 (1312522396.py, line 5)",
     "output_type": "error",
     "traceback": [
      "\u001b[1;36m  Cell \u001b[1;32mIn[115], line 5\u001b[1;36m\u001b[0m\n\u001b[1;33m    mean_value = np.mean(random_vector)\u001b[0m\n\u001b[1;37m                                        ^\u001b[0m\n\u001b[1;31mSyntaxError\u001b[0m\u001b[1;31m:\u001b[0m invalid non-printable character U+00A0\n"
     ]
    }
   ],
   "source": [
    "# Create a random vector of size 30\n",
    "random_vector = np.random.rand(30)\n",
    "print(\"Random vector:\", random_vector)\n",
    "# Calculate the mean value\n",
    "mean_value = np.mean(random_vector)   \n",
    "print(\"Mean value:\", mean_value)"
   ]
  },
  {
   "cell_type": "markdown",
   "id": "cbaad31c",
   "metadata": {},
   "source": [
    "#### 15. Create a 2d array with 1 on the border and 0 inside (★☆☆)"
   ]
  },
  {
   "cell_type": "code",
   "execution_count": 145,
   "id": "ad8308e3",
   "metadata": {},
   "outputs": [
    {
     "name": "stdout",
     "output_type": "stream",
     "text": [
      "[[1 1 1]\n",
      " [1 0 1]\n",
      " [1 1 1]]\n"
     ]
    }
   ],
   "source": [
    "import numpy as np\n",
    "\n",
    "def create_border_array(size):\n",
    "\n",
    "  arr = np.zeros((size, size), dtype=int)\n",
    "  arr[0, :] = 1\n",
    "  arr[-1, :] = 1\n",
    "  arr[:, 0] = 1\n",
    "  arr[:, -1] = 1\n",
    "  return arr\n",
    "\n",
    "# Example usage:\n",
    "size = 3\n",
    "result = create_border_array(size)\n",
    "print(result)"
   ]
  },
  {
   "cell_type": "markdown",
   "id": "c5ecc267",
   "metadata": {},
   "source": [
    "#### 16. How to add a border (filled with 0's) around an existing array? (★☆☆)"
   ]
  },
  {
   "cell_type": "code",
   "execution_count": null,
   "id": "9d5c78c4",
   "metadata": {},
   "outputs": [],
   "source": []
  },
  {
   "cell_type": "markdown",
   "id": "ef909b72",
   "metadata": {},
   "source": [
    "#### 17. What is the result of the following expression? (★☆☆)\n",
    "```python\n",
    "0 * np.nan\n",
    "np.nan == np.nan\n",
    "np.inf > np.nan\n",
    "np.nan - np.nan\n",
    "np.nan in set([np.nan])\n",
    "0.3 == 3 * 0.1\n",
    "```"
   ]
  },
  {
   "cell_type": "code",
   "execution_count": 151,
   "id": "3b4985f2",
   "metadata": {},
   "outputs": [
    {
     "name": "stdout",
     "output_type": "stream",
     "text": [
      "False\n",
      "False\n",
      "nan\n",
      "True\n",
      "False\n"
     ]
    }
   ],
   "source": [
    "0 * np.nan\n",
    "print(np.nan == np.nan)\n",
    "print(np.inf > np.nan)\n",
    "print(np.nan - np.nan)\n",
    "print(np.nan in set([np.nan]))\n",
    "print(0.3 == 3 * 0.1)"
   ]
  },
  {
   "cell_type": "markdown",
   "id": "502738ac",
   "metadata": {},
   "source": [
    "#### 18. Create a 5x5 matrix with values 1,2,3,4 just below the diagonal (★☆☆)"
   ]
  },
  {
   "cell_type": "code",
   "execution_count": 155,
   "id": "faed6e2b",
   "metadata": {},
   "outputs": [
    {
     "name": "stdout",
     "output_type": "stream",
     "text": [
      "[[0 0 0 0 0]\n",
      " [1 2 3 4 0]\n",
      " [1 2 3 4 0]\n",
      " [1 2 3 4 0]\n",
      " [1 2 3 4 0]]\n"
     ]
    }
   ],
   "source": [
    "arr = np.zeros((5, 5), dtype=int)\n",
    "arr[1:, :-1] += np.arange(1, 5)\n",
    "print(arr)"
   ]
  },
  {
   "cell_type": "markdown",
   "id": "a65da660",
   "metadata": {},
   "source": [
    "#### 19. Create a 8x8 matrix and fill it with a checkerboard pattern (★☆☆)"
   ]
  },
  {
   "cell_type": "code",
   "execution_count": 157,
   "id": "ed150400",
   "metadata": {},
   "outputs": [
    {
     "name": "stdout",
     "output_type": "stream",
     "text": [
      "[[0 1 0 1 0 1 0 1]\n",
      " [1 0 1 0 1 0 1 0]\n",
      " [0 1 0 1 0 1 0 1]\n",
      " [1 0 1 0 1 0 1 0]\n",
      " [0 1 0 1 0 1 0 1]\n",
      " [1 0 1 0 1 0 1 0]\n",
      " [0 1 0 1 0 1 0 1]\n",
      " [1 0 1 0 1 0 1 0]]\n"
     ]
    }
   ],
   "source": [
    "def create_checkerboard(size):\n",
    "  arr = np.zeros((size, size), dtype=int)\n",
    "  arr[1::2, ::2] = 1\n",
    "  arr[::2, 1::2] = 1\n",
    "  return arr\n",
    "\n",
    "# Example usage:\n",
    "checkerboard = create_checkerboard(8)\n",
    "print(checkerboard)"
   ]
  },
  {
   "cell_type": "markdown",
   "id": "9f7f9c49",
   "metadata": {},
   "source": [
    "#### 20. Consider a (6,7,8) shape array, what is the index (x,y,z) of the 100th element? (★☆☆)"
   ]
  },
  {
   "cell_type": "code",
   "execution_count": 159,
   "id": "3782b5a9",
   "metadata": {},
   "outputs": [
    {
     "name": "stdout",
     "output_type": "stream",
     "text": [
      "(1, 5, 4)\n"
     ]
    }
   ],
   "source": [
    "def find_index(shape, index):\n",
    "   return np.unravel_index(index, shape)\n",
    "\n",
    "# Example usage:\n",
    "array_shape = (6, 7, 8)\n",
    "element_index = 100\n",
    "index = find_index(array_shape, element_index)\n",
    "print(index)"
   ]
  },
  {
   "cell_type": "markdown",
   "id": "66bfda35",
   "metadata": {},
   "source": [
    "#### 21. Create a checkerboard 8x8 matrix using the tile function (★☆☆)"
   ]
  },
  {
   "cell_type": "code",
   "execution_count": 171,
   "id": "4c07477c",
   "metadata": {},
   "outputs": [
    {
     "name": "stdout",
     "output_type": "stream",
     "text": [
      "[[0 1 0 1 0 1 0 1]\n",
      " [1 0 1 0 1 0 1 0]\n",
      " [0 1 0 1 0 1 0 1]\n",
      " [1 0 1 0 1 0 1 0]\n",
      " [0 1 0 1 0 1 0 1]\n",
      " [1 0 1 0 1 0 1 0]\n",
      " [0 1 0 1 0 1 0 1]\n",
      " [1 0 1 0 1 0 1 0]]\n"
     ]
    }
   ],
   "source": [
    "def create_checkerboard(size):\n",
    "\n",
    "  base_pattern = np.array([[0, 1], [1, 0]])\n",
    "  return np.tile(base_pattern, (size // 2, size // 2))\n",
    "\n",
    "# Example usage:\n",
    "checkerboard = create_checkerboard(8)\n",
    "print(checkerboard)"
   ]
  },
  {
   "cell_type": "markdown",
   "id": "d5bcfc08",
   "metadata": {},
   "source": [
    "#### 22. Normalize a 5x5 random matrix (★☆☆)"
   ]
  },
  {
   "cell_type": "code",
   "execution_count": 175,
   "id": "cea6c993",
   "metadata": {},
   "outputs": [
    {
     "name": "stdout",
     "output_type": "stream",
     "text": [
      "Original matrix:\n",
      " [[0.39780964 0.23505221 0.1697229  0.69994322 0.55702473]\n",
      " [0.54091669 0.65333507 0.18548831 0.89777839 0.03557526]\n",
      " [0.6322298  0.06835748 0.73367305 0.37192653 0.84142498]\n",
      " [0.3108934  0.80509635 0.18543812 0.9206251  0.32451884]\n",
      " [0.57561546 0.60416863 0.54836785 0.52647836 0.87746272]]\n",
      "Normalized matrix:\n",
      " [[0.40928133 0.22538499 0.15157071 0.75065599 0.58917526]\n",
      " [0.57097511 0.69799437 0.16938373 0.97418596 0.        ]\n",
      " [0.67414796 0.03703996 0.78876664 0.38003653 0.91051338]\n",
      " [0.31107642 0.8694664  0.16932702 1.         0.32647154]\n",
      " [0.61018055 0.6424422  0.57939402 0.55466153 0.95123169]]\n"
     ]
    }
   ],
   "source": [
    "def normalize_matrix(matrix):\n",
    "\n",
    "  min_val = np.min(matrix)\n",
    "  max_val = np.max(matrix)\n",
    "  return (matrix - min_val) / (max_val - min_val)\n",
    "\n",
    "# Create a 5x5 random matrix\n",
    "random_matrix = np.random.rand(5, 5)\n",
    "\n",
    "# Normalize the matrix\n",
    "normalized_matrix = normalize_matrix(random_matrix)\n",
    "\n",
    "print(\"Original matrix:\\n\", random_matrix)\n",
    "print(\"Normalized matrix:\\n\", normalized_matrix)"
   ]
  },
  {
   "cell_type": "markdown",
   "id": "f9a0911e",
   "metadata": {},
   "source": [
    "#### 23. Create a custom dtype that describes a color as four unsigned bytes (RGBA) (★☆☆)"
   ]
  },
  {
   "cell_type": "code",
   "execution_count": 181,
   "id": "d165044b",
   "metadata": {},
   "outputs": [
    {
     "name": "stdout",
     "output_type": "stream",
     "text": [
      "[(255, 0, 0, 255)]\n"
     ]
    }
   ],
   "source": [
    "# Create a custom dtype for RGBA colors\n",
    "color_dtype = np.dtype([('r', np.ubyte), ('g', np.ubyte), ('b', np.ubyte), ('a', np.ubyte)])\n",
    "\n",
    "# Example usage:\n",
    "color = np.array([(255, 0, 0, 255)], dtype=color_dtype)  # Red color with full alpha\n",
    "print(color)"
   ]
  },
  {
   "cell_type": "markdown",
   "id": "654805b1",
   "metadata": {},
   "source": [
    "#### 24. Multiply a 5x3 matrix by a 3x2 matrix (real matrix product) (★☆☆)"
   ]
  },
  {
   "cell_type": "code",
   "execution_count": 185,
   "id": "6a42619f",
   "metadata": {},
   "outputs": [
    {
     "name": "stdout",
     "output_type": "stream",
     "text": [
      "Matrix 1:\n",
      " [[0.46988926 0.11944411 0.23007989]\n",
      " [0.87570931 0.61403622 0.0412867 ]\n",
      " [0.87469065 0.22787098 0.62381519]\n",
      " [0.55444686 0.0586039  0.43382554]\n",
      " [0.30692058 0.57164613 0.16718355]]\n",
      "Matrix 2:\n",
      " [[0.73527586 0.38402837]\n",
      " [0.22147966 0.11395541]\n",
      " [0.65158244 0.6706382 ]]\n",
      "Result:\n",
      " [[0.52186869 0.34836247]\n",
      " [0.80678614 0.43395841]\n",
      " [1.10007473 0.78022745]\n",
      " [0.70332407 0.51054153]\n",
      " [0.46121314 0.29512805]]\n"
     ]
    }
   ],
   "source": [
    "# Create a 5x3 matrix\n",
    "matrix1 = np.random.rand(5, 3)\n",
    "\n",
    "# Create a 3x2 matrix\n",
    "matrix2 = np.random.rand(3, 2)\n",
    "\n",
    "# Multiply the matrices\n",
    "result = np.dot(matrix1, matrix2)\n",
    "\n",
    "print(\"Matrix 1:\\n\", matrix1)\n",
    "print(\"Matrix 2:\\n\", matrix2)\n",
    "print(\"Result:\\n\", result)"
   ]
  },
  {
   "cell_type": "markdown",
   "id": "994c25df",
   "metadata": {},
   "source": [
    "#### 25. Given a 1D array, negate all elements which are between 3 and 8, in place. (★☆☆)"
   ]
  },
  {
   "cell_type": "code",
   "execution_count": 189,
   "id": "e4b39c03",
   "metadata": {},
   "outputs": [
    {
     "name": "stdout",
     "output_type": "stream",
     "text": [
      "[ 1  2  3 -4 -5 -6 -7  8  9]\n"
     ]
    }
   ],
   "source": [
    "def negate_elements(arr):\n",
    " \n",
    "  mask = (arr > 3) & (arr < 8)\n",
    "  arr[mask] *= -1\n",
    "\n",
    "# Example usage:\n",
    "arr = np.array([1, 2, 3, 4, 5, 6, 7, 8, 9])\n",
    "negate_elements(arr)\n",
    "print(arr)  # Output: [1 2 3 -4 -5 -6 -7 -8 9]"
   ]
  },
  {
   "cell_type": "markdown",
   "id": "b7d15d1a",
   "metadata": {},
   "source": [
    "#### 26. What is the output of the following script? (★☆☆)\n",
    "```python\n",
    "# Author: Jake VanderPlas\n",
    "\n",
    "print(sum(range(5),-1))\n",
    "from numpy import *\n",
    "print(sum(range(5),-1))\n",
    "```"
   ]
  },
  {
   "cell_type": "code",
   "execution_count": 195,
   "id": "4c95bc3f",
   "metadata": {},
   "outputs": [
    {
     "name": "stdout",
     "output_type": "stream",
     "text": [
      "9\n",
      "10\n"
     ]
    }
   ],
   "source": [
    "print(sum(range(5),-1))\n",
    "from numpy import *\n",
    "print(sum(range(5),-1))"
   ]
  },
  {
   "cell_type": "markdown",
   "id": "a34f0d08",
   "metadata": {},
   "source": [
    "#### 27. Consider an integer vector Z, which of these expressions are legal? (★☆☆)\n",
    "```python\n",
    "Z**Z\n",
    "2 << Z >> 2\n",
    "Z <- Z\n",
    "1j*Z\n",
    "Z/1/1\n",
    "Z<Z>Z\n",
    "```"
   ]
  },
  {
   "cell_type": "code",
   "execution_count": 201,
   "id": "564658fc",
   "metadata": {},
   "outputs": [
    {
     "ename": "SyntaxError",
     "evalue": "invalid syntax (1012071202.py, line 6)",
     "output_type": "error",
     "traceback": [
      "\u001b[1;36m  Cell \u001b[1;32mIn[201], line 6\u001b[1;36m\u001b[0m\n\u001b[1;33m    Z<Z>  # this one\u001b[0m\n\u001b[1;37m          ^\u001b[0m\n\u001b[1;31mSyntaxError\u001b[0m\u001b[1;31m:\u001b[0m invalid syntax\n"
     ]
    }
   ],
   "source": [
    "Z**Z\n",
    "2 << Z >> 2\n",
    "Z <- Z\n",
    "1j*Z\n",
    "Z/1/1\n",
    "Z<Z>  # this one "
   ]
  },
  {
   "cell_type": "markdown",
   "id": "c34e94bf",
   "metadata": {},
   "source": [
    "#### 28. What are the result of the following expressions? (★☆☆)\n",
    "```python\n",
    "np.array(0) / np.array(0)\n",
    "np.array(0) // np.array(0)\n",
    "np.array([np.nan]).astype(int).astype(float)\n",
    "```"
   ]
  },
  {
   "cell_type": "code",
   "execution_count": 203,
   "id": "56663562",
   "metadata": {},
   "outputs": [
    {
     "name": "stderr",
     "output_type": "stream",
     "text": [
      "C:\\Users\\SR Computers\\AppData\\Local\\Temp\\ipykernel_10064\\548293649.py:1: RuntimeWarning: invalid value encountered in divide\n",
      "  np.array(0) / np.array(0)\n",
      "C:\\Users\\SR Computers\\AppData\\Local\\Temp\\ipykernel_10064\\548293649.py:2: RuntimeWarning: divide by zero encountered in floor_divide\n",
      "  np.array(0) // np.array(0)\n",
      "C:\\Users\\SR Computers\\AppData\\Local\\Temp\\ipykernel_10064\\548293649.py:3: RuntimeWarning: invalid value encountered in cast\n",
      "  np.array([np.nan]).astype(int).astype(float)\n"
     ]
    },
    {
     "data": {
      "text/plain": [
       "array([-2.14748365e+09])"
      ]
     },
     "execution_count": 203,
     "metadata": {},
     "output_type": "execute_result"
    }
   ],
   "source": [
    "np.array(0) / np.array(0)\n",
    "np.array(0) // np.array(0)\n",
    "np.array([np.nan]).astype(int).astype(float)"
   ]
  },
  {
   "cell_type": "markdown",
   "id": "546f5e7b",
   "metadata": {},
   "source": [
    "#### 29. How to round away from zero a float array ? (★☆☆)"
   ]
  },
  {
   "cell_type": "code",
   "execution_count": 207,
   "id": "f725a6d2",
   "metadata": {},
   "outputs": [
    {
     "name": "stdout",
     "output_type": "stream",
     "text": [
      "[-3. -2.  1.  2.]\n"
     ]
    }
   ],
   "source": [
    "def round_away_from_zero(arr):\n",
    "  return np.where(arr >= 0, np.ceil(arr), np.floor(arr))\n",
    "\n",
    "# Example usage:\n",
    "arr = np.array([-2.5, -1.2, 0.3, 1.7])\n",
    "result = round_away_from_zero(arr)\n",
    "print(result)"
   ]
  },
  {
   "cell_type": "markdown",
   "id": "eadca856",
   "metadata": {},
   "source": [
    "#### 30. How to find common values between two arrays? (★☆☆)"
   ]
  },
  {
   "cell_type": "code",
   "execution_count": 213,
   "id": "e0270b5b",
   "metadata": {},
   "outputs": [
    {
     "name": "stdout",
     "output_type": "stream",
     "text": [
      "[3 4 5]\n"
     ]
    }
   ],
   "source": [
    "array1 = np.array([1, 2, 3, 4, 5])\n",
    "array2 = np.array([3, 4, 5, 6, 7])\n",
    "\n",
    "common_elements = np.intersect1d(array1, array2)\n",
    "print(common_elements)  # Output: [3 4 5]"
   ]
  },
  {
   "cell_type": "markdown",
   "id": "ca16ca22",
   "metadata": {},
   "source": [
    "#### 31. How to ignore all numpy warnings (not recommended)? (★☆☆)"
   ]
  },
  {
   "cell_type": "code",
   "execution_count": 215,
   "id": "7d7208ef",
   "metadata": {},
   "outputs": [],
   "source": [
    "import warnings\n",
    "\n",
    "np.seterr(all='ignore')\n",
    "warnings.simplefilter('ignore')"
   ]
  },
  {
   "cell_type": "markdown",
   "id": "c7871d0d",
   "metadata": {},
   "source": [
    "#### 32. Is the following expressions true? (★☆☆)\n",
    "```python\n",
    "np.sqrt(-1) == np.emath.sqrt(-1)\n",
    "```"
   ]
  },
  {
   "cell_type": "code",
   "execution_count": 5,
   "id": "acc3701a",
   "metadata": {},
   "outputs": [
    {
     "name": "stderr",
     "output_type": "stream",
     "text": [
      "C:\\Users\\SR Computers\\AppData\\Local\\Temp\\ipykernel_1196\\3084084354.py:2: RuntimeWarning: invalid value encountered in sqrt\n",
      "  np.sqrt(-1) == np.emath.sqrt(-1)\n"
     ]
    },
    {
     "data": {
      "text/plain": [
       "False"
      ]
     },
     "execution_count": 5,
     "metadata": {},
     "output_type": "execute_result"
    }
   ],
   "source": [
    "import numpy as np\n",
    "np.sqrt(-1) == np.emath.sqrt(-1)"
   ]
  },
  {
   "cell_type": "markdown",
   "id": "e0433e30",
   "metadata": {},
   "source": [
    "#### 33. How to get the dates of yesterday, today and tomorrow? (★☆☆)"
   ]
  },
  {
   "cell_type": "code",
   "execution_count": 11,
   "id": "9c4d2152",
   "metadata": {},
   "outputs": [
    {
     "name": "stdout",
     "output_type": "stream",
     "text": [
      "Yesterday: 2024-08-16\n",
      "Today: 2024-08-17\n",
      "Tomorrow: 2024-08-18\n"
     ]
    }
   ],
   "source": [
    "import datetime\n",
    "# Get today's date\n",
    "today = datetime.date.today()\n",
    "\n",
    "# Calculate yesterday's date\n",
    "yesterday = today - datetime.timedelta(days=1)\n",
    "\n",
    "# Calculate tomorrow's date\n",
    "tomorrow = today + datetime.timedelta(days=1)\n",
    "\n",
    "print(\"Yesterday:\", yesterday)\n",
    "print(\"Today:\", today)\n",
    "print(\"Tomorrow:\", tomorrow)"
   ]
  },
  {
   "cell_type": "markdown",
   "id": "9f52a2ef",
   "metadata": {},
   "source": [
    "#### 34. How to get all the dates corresponding to the month of July 2016? (★★☆)"
   ]
  },
  {
   "cell_type": "code",
   "execution_count": 13,
   "id": "d6c34dec",
   "metadata": {},
   "outputs": [
    {
     "name": "stdout",
     "output_type": "stream",
     "text": [
      "DatetimeIndex(['2016-07-01', '2016-07-02', '2016-07-03', '2016-07-04',\n",
      "               '2016-07-05', '2016-07-06', '2016-07-07', '2016-07-08',\n",
      "               '2016-07-09', '2016-07-10', '2016-07-11', '2016-07-12',\n",
      "               '2016-07-13', '2016-07-14', '2016-07-15', '2016-07-16',\n",
      "               '2016-07-17', '2016-07-18', '2016-07-19', '2016-07-20',\n",
      "               '2016-07-21', '2016-07-22', '2016-07-23', '2016-07-24',\n",
      "               '2016-07-25', '2016-07-26', '2016-07-27', '2016-07-28',\n",
      "               '2016-07-29', '2016-07-30', '2016-07-31'],\n",
      "              dtype='datetime64[ns]', freq='D')\n"
     ]
    }
   ],
   "source": [
    "import pandas as pd\n",
    "\n",
    "start_date = '2016-07-01'\n",
    "end_date = '2016-07-31'\n",
    "\n",
    "july_2016_dates = pd.date_range(start=start_date, end=end_date)\n",
    "\n",
    "print(july_2016_dates)"
   ]
  },
  {
   "cell_type": "markdown",
   "id": "4a64e059",
   "metadata": {},
   "source": [
    "#### 35. How to compute ((A+B)*(-A/2)) in place (without copy)? (★★☆)"
   ]
  },
  {
   "cell_type": "code",
   "execution_count": null,
   "id": "49267f60",
   "metadata": {},
   "outputs": [],
   "source": [
    "import numpy as np\n",
    "def compute_in_place(A, B): \n",
    "\n",
    "  # Add A and B, storing the result in B\n",
    "  np.add(A, B, out=B)\n",
    "\n",
    "  # Divide A by 2, storing the result in A\n",
    "  np.(A, 2, out=A)\n",
    "\n",
    "  # Negate A, storing the result in A\n",
    "  np.negative(A, out=A)\n",
    "\n",
    "  # Multiply B and A, storing the result in A\n",
    "  np.multiply(B, A, out=A)\n",
    "\n",
    "# Example usage:\n",
    "A = np.array([1, 2, 3])\n",
    "B = np.array([4, 5, 6])\n",
    "compute_in_place(A, B)\n",
    "print(A)  # Output: [-7.5 -10.5 -13.5]"
   ]
  },
  {
   "cell_type": "markdown",
   "id": "8a98c2a8",
   "metadata": {},
   "source": [
    "#### 36. Extract the integer part of a random array of positive numbers using 4 different methods (★★☆)"
   ]
  },
  {
   "cell_type": "code",
   "execution_count": 20,
   "id": "368130b3",
   "metadata": {},
   "outputs": [
    {
     "name": "stdout",
     "output_type": "stream",
     "text": [
      "[76. 84. 13.  0. 89. 15. 50. 74. 33. 75.]\n"
     ]
    }
   ],
   "source": [
    "# Create a random array of positive numbers\n",
    "arr = np.random.rand(10) * 100\n",
    "\n",
    "# Extract integer part using integer division\n",
    "integer_part = arr // 1\n",
    "print(integer_part)"
   ]
  },
  {
   "cell_type": "markdown",
   "id": "5a2e3d85",
   "metadata": {},
   "source": [
    "#### 37. Create a 5x5 matrix with row values ranging from 0 to 4 (★★☆)"
   ]
  },
  {
   "cell_type": "code",
   "execution_count": 22,
   "id": "1d974e8f",
   "metadata": {},
   "outputs": [
    {
     "name": "stdout",
     "output_type": "stream",
     "text": [
      "[[0. 0. 0. 0. 0.]\n",
      " [1. 1. 1. 1. 1.]\n",
      " [2. 2. 2. 2. 2.]\n",
      " [3. 3. 3. 3. 3.]\n",
      " [4. 4. 4. 4. 4.]]\n"
     ]
    }
   ],
   "source": [
    "# Create a 5x5 matrix with row values ranging from 0 to 4\n",
    "matrix = np.arange(5).reshape(5, 1) + np.zeros((5, 5))\n",
    "\n",
    "print(matrix)"
   ]
  },
  {
   "cell_type": "markdown",
   "id": "9720e2d5",
   "metadata": {},
   "source": [
    "#### 38. Consider a generator function that generates 10 integers and use it to build an array (★☆☆)"
   ]
  },
  {
   "cell_type": "code",
   "execution_count": 24,
   "id": "e5dd8fc9",
   "metadata": {},
   "outputs": [
    {
     "name": "stdout",
     "output_type": "stream",
     "text": [
      "[0 1 2 3 4 5 6 7 8 9]\n"
     ]
    }
   ],
   "source": [
    "import numpy as np\n",
    "\n",
    "def generate_integers():\n",
    "  for i in range(10):\n",
    "    yield i\n",
    "\n",
    "# Create an array from the generator\n",
    "array = np.fromiter(generate_integers(), dtype=int)\n",
    "\n",
    "print(array)"
   ]
  },
  {
   "cell_type": "markdown",
   "id": "c6f2c912",
   "metadata": {},
   "source": [
    "#### 39. Create a vector of size 10 with values ranging from 0 to 1, both excluded (★★☆)"
   ]
  },
  {
   "cell_type": "code",
   "execution_count": 26,
   "id": "6aaa27d3",
   "metadata": {},
   "outputs": [
    {
     "name": "stdout",
     "output_type": "stream",
     "text": [
      "[0.09090909 0.18181818 0.27272727 0.36363636 0.45454545 0.54545455\n",
      " 0.63636364 0.72727273 0.81818182 0.90909091]\n"
     ]
    }
   ],
   "source": [
    "# Create a vector with 12 evenly spaced values between 0 and 1 (inclusive)\n",
    "vector = np.linspace(0, 1, 12)\n",
    "\n",
    "# Remove the first and last element to exclude 0 and 1\n",
    "vector = vector[1:-1]\n",
    "\n",
    "print(vector)"
   ]
  },
  {
   "cell_type": "markdown",
   "id": "a36d6ee4",
   "metadata": {},
   "source": [
    "#### 40. Create a random vector of size 10 and sort it (★★☆)"
   ]
  },
  {
   "cell_type": "code",
   "execution_count": 28,
   "id": "e589d216",
   "metadata": {},
   "outputs": [
    {
     "name": "stdout",
     "output_type": "stream",
     "text": [
      "[0.01627446 0.17806054 0.35212422 0.3831085  0.40601577 0.41838571\n",
      " 0.43190065 0.49311376 0.49811336 0.98841692]\n"
     ]
    }
   ],
   "source": [
    "import numpy as np\n",
    "\n",
    "# Create a random vector of size 10\n",
    "vector = np.random.rand(10)\n",
    "\n",
    "# Sort the vector\n",
    "vector.sort()\n",
    "\n",
    "print(vector)"
   ]
  },
  {
   "cell_type": "markdown",
   "id": "0fb4ad68",
   "metadata": {},
   "source": [
    "#### 41. How to sum a small array faster than np.sum? (★★☆)"
   ]
  },
  {
   "cell_type": "code",
   "execution_count": 32,
   "id": "a1ba05a0",
   "metadata": {},
   "outputs": [],
   "source": [
    "# No idea"
   ]
  },
  {
   "cell_type": "markdown",
   "id": "024ac365",
   "metadata": {},
   "source": [
    "#### 42. Consider two random array A and B, check if they are equal (★★☆)"
   ]
  },
  {
   "cell_type": "code",
   "execution_count": 34,
   "id": "7db3846d",
   "metadata": {},
   "outputs": [
    {
     "name": "stdout",
     "output_type": "stream",
     "text": [
      "Arrays are not equal\n"
     ]
    }
   ],
   "source": [
    "# Create two random arrays\n",
    "A = np.random.randint(0, 10, 5)\n",
    "B = np.random.randint(0, 10, 5)\n",
    "\n",
    "# Check for exact equality (same shape, same elements)\n",
    "if np.array_equal(A, B):\n",
    "    print(\"Arrays are equal\")\n",
    "else:\n",
    "    print(\"Arrays are not equal\")"
   ]
  },
  {
   "cell_type": "markdown",
   "id": "c68d2401",
   "metadata": {},
   "source": [
    "#### 43. Make an array immutable (read-only) (★★☆)"
   ]
  },
  {
   "cell_type": "code",
   "execution_count": 36,
   "id": "7828539d",
   "metadata": {},
   "outputs": [
    {
     "name": "stdout",
     "output_type": "stream",
     "text": [
      "assignment destination is read-only\n"
     ]
    }
   ],
   "source": [
    "# Create a NumPy array\n",
    "arr = np.array([1, 2, 3, 4, 5])\n",
    "\n",
    "# Make the array immutable\n",
    "arr.flags.writeable = False\n",
    "\n",
    "# Attempting to modify the array will raise a ValueError\n",
    "try:\n",
    "    arr[0] = 10\n",
    "except ValueError as e:\n",
    "    print(e)  # Output: array is read-only"
   ]
  },
  {
   "cell_type": "markdown",
   "id": "55df6280",
   "metadata": {},
   "source": [
    "#### 44. Consider a random 10x2 matrix representing cartesian coordinates, convert them to polar coordinates (★★☆)"
   ]
  },
  {
   "cell_type": "code",
   "execution_count": 38,
   "id": "f1c86ea0",
   "metadata": {},
   "outputs": [
    {
     "name": "stdout",
     "output_type": "stream",
     "text": [
      "[[ 0.78789443  1.27649574]\n",
      " [ 0.7250568   2.91593822]\n",
      " [ 1.37505373 -0.90286162]\n",
      " [ 1.22328079 -0.77232844]\n",
      " [ 2.42362557 -2.11095924]\n",
      " [ 1.84745233 -2.92487461]\n",
      " [ 0.93591381  2.78373597]\n",
      " [ 2.01343881 -0.20745097]\n",
      " [ 1.51635759  3.0378217 ]\n",
      " [ 0.13296845 -3.05777217]]\n"
     ]
    }
   ],
   "source": [
    "# Generate a random 10x2 matrix of Cartesian coordinates\n",
    "cartesian_coords = np.random.randn(10, 2)\n",
    "\n",
    "# Extract x and y coordinates\n",
    "x, y = cartesian_coords[:, 0], cartesian_coords[:, 1]\n",
    "\n",
    "# Calculate polar coordinates\n",
    "r = np.sqrt(x**2 + y**2)\n",
    "theta = np.arctan2(y, x)\n",
    "\n",
    "# Combine r and theta into a polar coordinate matrix\n",
    "polar_coords = np.column_stack((r, theta))\n",
    "\n",
    "print(polar_coords)"
   ]
  },
  {
   "cell_type": "markdown",
   "id": "2f60f1ec",
   "metadata": {},
   "source": [
    "#### 45. Create random vector of size 10 and replace the maximum value by 0 (★★☆)"
   ]
  },
  {
   "cell_type": "code",
   "execution_count": 40,
   "id": "d9f48f1c",
   "metadata": {},
   "outputs": [
    {
     "ename": "SyntaxError",
     "evalue": "invalid non-printable character U+00A0 (3200880761.py, line 10)",
     "output_type": "error",
     "traceback": [
      "\u001b[1;36m  Cell \u001b[1;32mIn[40], line 10\u001b[1;36m\u001b[0m\n\u001b[1;33m    print(vector)\u001b[0m\n\u001b[1;37m                  ^\u001b[0m\n\u001b[1;31mSyntaxError\u001b[0m\u001b[1;31m:\u001b[0m invalid non-printable character U+00A0\n"
     ]
    }
   ],
   "source": [
    "# Create a random vector of size 10\n",
    "vector = np.random.rand(10)\n",
    "\n",
    "# Find the index of the maximum value\n",
    "max_index = np.argmax(vector)\n",
    "\n",
    "# Replace the maximum value with 0\n",
    "vector[max_index] = 0\n",
    "\n",
    "print(vector)   \n"
   ]
  },
  {
   "cell_type": "markdown",
   "id": "084e8ad4",
   "metadata": {},
   "source": [
    "#### 46. Create a structured array with `x` and `y` coordinates covering the [0,1]x[0,1] area (★★☆)"
   ]
  },
  {
   "cell_type": "code",
   "execution_count": 42,
   "id": "58b47c13",
   "metadata": {},
   "outputs": [
    {
     "name": "stdout",
     "output_type": "stream",
     "text": [
      "[[(0.        , 0.        ) (0.        , 0.        )]\n",
      " [(0.11111111, 0.11111111) (0.        , 0.        )]\n",
      " [(0.22222222, 0.22222222) (0.        , 0.        )]\n",
      " [(0.33333333, 0.33333333) (0.        , 0.        )]\n",
      " [(0.44444444, 0.44444444) (0.        , 0.        )]\n",
      " [(0.55555556, 0.55555556) (0.        , 0.        )]\n",
      " [(0.66666667, 0.66666667) (0.        , 0.        )]\n",
      " [(0.77777778, 0.77777778) (0.        , 0.        )]\n",
      " [(0.88888889, 0.88888889) (0.        , 0.        )]\n",
      " [(1.        , 1.        ) (0.        , 0.        )]\n",
      " [(0.        , 0.        ) (0.11111111, 0.11111111)]\n",
      " [(0.11111111, 0.11111111) (0.11111111, 0.11111111)]\n",
      " [(0.22222222, 0.22222222) (0.11111111, 0.11111111)]\n",
      " [(0.33333333, 0.33333333) (0.11111111, 0.11111111)]\n",
      " [(0.44444444, 0.44444444) (0.11111111, 0.11111111)]\n",
      " [(0.55555556, 0.55555556) (0.11111111, 0.11111111)]\n",
      " [(0.66666667, 0.66666667) (0.11111111, 0.11111111)]\n",
      " [(0.77777778, 0.77777778) (0.11111111, 0.11111111)]\n",
      " [(0.88888889, 0.88888889) (0.11111111, 0.11111111)]\n",
      " [(1.        , 1.        ) (0.11111111, 0.11111111)]\n",
      " [(0.        , 0.        ) (0.22222222, 0.22222222)]\n",
      " [(0.11111111, 0.11111111) (0.22222222, 0.22222222)]\n",
      " [(0.22222222, 0.22222222) (0.22222222, 0.22222222)]\n",
      " [(0.33333333, 0.33333333) (0.22222222, 0.22222222)]\n",
      " [(0.44444444, 0.44444444) (0.22222222, 0.22222222)]\n",
      " [(0.55555556, 0.55555556) (0.22222222, 0.22222222)]\n",
      " [(0.66666667, 0.66666667) (0.22222222, 0.22222222)]\n",
      " [(0.77777778, 0.77777778) (0.22222222, 0.22222222)]\n",
      " [(0.88888889, 0.88888889) (0.22222222, 0.22222222)]\n",
      " [(1.        , 1.        ) (0.22222222, 0.22222222)]\n",
      " [(0.        , 0.        ) (0.33333333, 0.33333333)]\n",
      " [(0.11111111, 0.11111111) (0.33333333, 0.33333333)]\n",
      " [(0.22222222, 0.22222222) (0.33333333, 0.33333333)]\n",
      " [(0.33333333, 0.33333333) (0.33333333, 0.33333333)]\n",
      " [(0.44444444, 0.44444444) (0.33333333, 0.33333333)]\n",
      " [(0.55555556, 0.55555556) (0.33333333, 0.33333333)]\n",
      " [(0.66666667, 0.66666667) (0.33333333, 0.33333333)]\n",
      " [(0.77777778, 0.77777778) (0.33333333, 0.33333333)]\n",
      " [(0.88888889, 0.88888889) (0.33333333, 0.33333333)]\n",
      " [(1.        , 1.        ) (0.33333333, 0.33333333)]\n",
      " [(0.        , 0.        ) (0.44444444, 0.44444444)]\n",
      " [(0.11111111, 0.11111111) (0.44444444, 0.44444444)]\n",
      " [(0.22222222, 0.22222222) (0.44444444, 0.44444444)]\n",
      " [(0.33333333, 0.33333333) (0.44444444, 0.44444444)]\n",
      " [(0.44444444, 0.44444444) (0.44444444, 0.44444444)]\n",
      " [(0.55555556, 0.55555556) (0.44444444, 0.44444444)]\n",
      " [(0.66666667, 0.66666667) (0.44444444, 0.44444444)]\n",
      " [(0.77777778, 0.77777778) (0.44444444, 0.44444444)]\n",
      " [(0.88888889, 0.88888889) (0.44444444, 0.44444444)]\n",
      " [(1.        , 1.        ) (0.44444444, 0.44444444)]\n",
      " [(0.        , 0.        ) (0.55555556, 0.55555556)]\n",
      " [(0.11111111, 0.11111111) (0.55555556, 0.55555556)]\n",
      " [(0.22222222, 0.22222222) (0.55555556, 0.55555556)]\n",
      " [(0.33333333, 0.33333333) (0.55555556, 0.55555556)]\n",
      " [(0.44444444, 0.44444444) (0.55555556, 0.55555556)]\n",
      " [(0.55555556, 0.55555556) (0.55555556, 0.55555556)]\n",
      " [(0.66666667, 0.66666667) (0.55555556, 0.55555556)]\n",
      " [(0.77777778, 0.77777778) (0.55555556, 0.55555556)]\n",
      " [(0.88888889, 0.88888889) (0.55555556, 0.55555556)]\n",
      " [(1.        , 1.        ) (0.55555556, 0.55555556)]\n",
      " [(0.        , 0.        ) (0.66666667, 0.66666667)]\n",
      " [(0.11111111, 0.11111111) (0.66666667, 0.66666667)]\n",
      " [(0.22222222, 0.22222222) (0.66666667, 0.66666667)]\n",
      " [(0.33333333, 0.33333333) (0.66666667, 0.66666667)]\n",
      " [(0.44444444, 0.44444444) (0.66666667, 0.66666667)]\n",
      " [(0.55555556, 0.55555556) (0.66666667, 0.66666667)]\n",
      " [(0.66666667, 0.66666667) (0.66666667, 0.66666667)]\n",
      " [(0.77777778, 0.77777778) (0.66666667, 0.66666667)]\n",
      " [(0.88888889, 0.88888889) (0.66666667, 0.66666667)]\n",
      " [(1.        , 1.        ) (0.66666667, 0.66666667)]\n",
      " [(0.        , 0.        ) (0.77777778, 0.77777778)]\n",
      " [(0.11111111, 0.11111111) (0.77777778, 0.77777778)]\n",
      " [(0.22222222, 0.22222222) (0.77777778, 0.77777778)]\n",
      " [(0.33333333, 0.33333333) (0.77777778, 0.77777778)]\n",
      " [(0.44444444, 0.44444444) (0.77777778, 0.77777778)]\n",
      " [(0.55555556, 0.55555556) (0.77777778, 0.77777778)]\n",
      " [(0.66666667, 0.66666667) (0.77777778, 0.77777778)]\n",
      " [(0.77777778, 0.77777778) (0.77777778, 0.77777778)]\n",
      " [(0.88888889, 0.88888889) (0.77777778, 0.77777778)]\n",
      " [(1.        , 1.        ) (0.77777778, 0.77777778)]\n",
      " [(0.        , 0.        ) (0.88888889, 0.88888889)]\n",
      " [(0.11111111, 0.11111111) (0.88888889, 0.88888889)]\n",
      " [(0.22222222, 0.22222222) (0.88888889, 0.88888889)]\n",
      " [(0.33333333, 0.33333333) (0.88888889, 0.88888889)]\n",
      " [(0.44444444, 0.44444444) (0.88888889, 0.88888889)]\n",
      " [(0.55555556, 0.55555556) (0.88888889, 0.88888889)]\n",
      " [(0.66666667, 0.66666667) (0.88888889, 0.88888889)]\n",
      " [(0.77777778, 0.77777778) (0.88888889, 0.88888889)]\n",
      " [(0.88888889, 0.88888889) (0.88888889, 0.88888889)]\n",
      " [(1.        , 1.        ) (0.88888889, 0.88888889)]\n",
      " [(0.        , 0.        ) (1.        , 1.        )]\n",
      " [(0.11111111, 0.11111111) (1.        , 1.        )]\n",
      " [(0.22222222, 0.22222222) (1.        , 1.        )]\n",
      " [(0.33333333, 0.33333333) (1.        , 1.        )]\n",
      " [(0.44444444, 0.44444444) (1.        , 1.        )]\n",
      " [(0.55555556, 0.55555556) (1.        , 1.        )]\n",
      " [(0.66666667, 0.66666667) (1.        , 1.        )]\n",
      " [(0.77777778, 0.77777778) (1.        , 1.        )]\n",
      " [(0.88888889, 0.88888889) (1.        , 1.        )]\n",
      " [(1.        , 1.        ) (1.        , 1.        )]]\n"
     ]
    }
   ],
   "source": [
    "import numpy as np\n",
    "\n",
    "def create_structured_array(num_points):\n",
    "  x = np.linspace(0, 1, num_points)\n",
    "  y = np.linspace(0, 1, num_points)\n",
    "  X, Y = np.meshgrid(x, y)\n",
    "  coords = np.vstack([X.ravel(), Y.ravel()]).T\n",
    "  dtype = [('x', float), ('y', float)]\n",
    "  return np.array(coords, dtype=dtype)\n",
    "\n",
    "# Example usage\n",
    "num_points = 10\n",
    "structured_array = create_structured_array(num_points)\n",
    "print(structured_array)"
   ]
  },
  {
   "cell_type": "markdown",
   "id": "d7b9bc42",
   "metadata": {},
   "source": [
    "#### 47. Given two arrays, X and Y, construct the Cauchy matrix C (Cij =1/(xi - yj)) (★★☆)"
   ]
  },
  {
   "cell_type": "code",
   "execution_count": 44,
   "id": "a24824fb",
   "metadata": {},
   "outputs": [
    {
     "name": "stdout",
     "output_type": "stream",
     "text": [
      "[[-0.33333333 -0.25      ]\n",
      " [-0.5        -0.33333333]\n",
      " [-1.         -0.5       ]]\n"
     ]
    }
   ],
   "source": [
    "import numpy as np\n",
    "\n",
    "def cauchy_matrix(x, y):\n",
    "  return 1.0 / (x[:, np.newaxis] - y)\n",
    "\n",
    "# Example usage:\n",
    "x = np.array([1, 2, 3])\n",
    "y = np.array([4, 5])\n",
    "\n",
    "C = cauchy_matrix(x, y)\n",
    "print(C)"
   ]
  },
  {
   "cell_type": "markdown",
   "id": "65ebc11b",
   "metadata": {},
   "source": [
    "#### 48. Print the minimum and maximum representable value for each numpy scalar type (★★☆)"
   ]
  },
  {
   "cell_type": "code",
   "execution_count": 46,
   "id": "e45d38fb",
   "metadata": {},
   "outputs": [
    {
     "ename": "SyntaxError",
     "evalue": "invalid non-printable character U+00A0 (2991889878.py, line 6)",
     "output_type": "error",
     "traceback": [
      "\u001b[1;36m  Cell \u001b[1;32mIn[46], line 6\u001b[1;36m\u001b[0m\n\u001b[1;33m    for dtype in [np.int8, np.int16, np.int32, np.int64, np.uint8, np.uint16, np.uint32, np.uint64, np.float16, np.float32, np.float64]:\u001b[0m\n\u001b[1;37m                                                                                                                                         ^\u001b[0m\n\u001b[1;31mSyntaxError\u001b[0m\u001b[1;31m:\u001b[0m invalid non-printable character U+00A0\n"
     ]
    }
   ],
   "source": [
    "import numpy as np\n",
    "\n",
    "def print_min_max_values():\n",
    "\n",
    "  for dtype in [np.int8, np.int16, np.int32, np.int64, np.uint8, np.uint16, np.uint32, np.uint64, np.float16, np.float32, np.float64]:   \n",
    "\n",
    "    if np.issubdtype(dtype, np.integer):\n",
    "      info = np.iinfo(dtype)\n",
    "      print(f\"{dtype.__name__}: min={info.min}, max={info.max}\")\n",
    "    else:\n",
    "      info = np.finfo(dtype)\n",
    "      print(f\"{dtype.__name__}: min={info.min}, max={info.max}, eps={info.eps}\")\n",
    "\n",
    "print_min_max_values()"
   ]
  },
  {
   "cell_type": "markdown",
   "id": "9b317a98",
   "metadata": {},
   "source": [
    "#### 49. How to print all the values of an array? (★★☆)"
   ]
  },
  {
   "cell_type": "code",
   "execution_count": 48,
   "id": "309cdeb9",
   "metadata": {},
   "outputs": [
    {
     "name": "stdout",
     "output_type": "stream",
     "text": [
      "[1, 2, 3, 4, 5]\n"
     ]
    }
   ],
   "source": [
    "my_array = [1, 2, 3, 4, 5]\n",
    "print(my_array)  # Output: [1, 2, 3, 4, 5]"
   ]
  },
  {
   "cell_type": "markdown",
   "id": "b580f9d0",
   "metadata": {},
   "source": [
    "#### 50. How to find the closest value (to a given scalar) in a vector? (★★☆)"
   ]
  },
  {
   "cell_type": "code",
   "execution_count": 50,
   "id": "ebfb6714",
   "metadata": {},
   "outputs": [
    {
     "name": "stdout",
     "output_type": "stream",
     "text": [
      "8\n"
     ]
    }
   ],
   "source": [
    "def find_nearest(array, value):\n",
    "  array = np.asarray(array)\n",
    "  idx = (np.abs(array - value)).argmin()\n",
    "  return array[idx]\n",
    "\n",
    "# Example usage:\n",
    "my_array = [3, 8, 2, 9, 5]\n",
    "value = 6.5\n",
    "\n",
    "closest_value = find_nearest(my_array, value)\n",
    "print(closest_value)  # Output: 5"
   ]
  },
  {
   "cell_type": "markdown",
   "id": "602e6252",
   "metadata": {},
   "source": [
    "#### 51. Create a structured array representing a position (x,y) and a color (r,g,b) (★★☆)"
   ]
  },
  {
   "cell_type": "code",
   "execution_count": 58,
   "id": "cf002b3a",
   "metadata": {},
   "outputs": [
    {
     "name": "stdout",
     "output_type": "stream",
     "text": [
      "[((0., 0.), (0, 0, 0)) ((0., 0.), (0, 0, 0)) ((0., 0.), (0, 0, 0))\n",
      " ((0., 0.), (0, 0, 0)) ((0., 0.), (0, 0, 0))]\n"
     ]
    }
   ],
   "source": [
    "def create_position_color_array(num_points):\n",
    "  dtype = [('position', [('x', float), ('y', float)]),\n",
    "           ('color', [('r', int), ('g', int), ('b', int)])]\n",
    "  data = np.zeros(num_points, dtype=dtype)\n",
    "  return data\n",
    "\n",
    "# Example usage:\n",
    "num_points = 5\n",
    "points_and_colors = create_position_color_array(num_points)\n",
    "print(points_and_colors)"
   ]
  },
  {
   "cell_type": "markdown",
   "id": "78bcd92f",
   "metadata": {},
   "source": [
    "#### 52. Consider a random vector with shape (100,2) representing coordinates, find point by point distances (★★☆)"
   ]
  },
  {
   "cell_type": "code",
   "execution_count": 62,
   "id": "fea7f9a6",
   "metadata": {},
   "outputs": [],
   "source": [
    "def calculate_distances(coordinates):\n",
    " \n",
    "  # Calculate pairwise differences between coordinates\n",
    "  differences = coordinates[:, np.newaxis, :] - coordinates[np.newaxis, :, :]\n",
    "\n",
    "  # Calculate squared distances\n",
    "  squared_distances = np.sum(differences**2, axis=2)\n",
    "\n",
    "  # Calculate Euclidean distances\n",
    "  distances = np.sqrt(squared_distances)\n",
    "\n",
    "  print(distances)\n",
    "    "
   ]
  },
  {
   "cell_type": "markdown",
   "id": "343c5a85",
   "metadata": {},
   "source": [
    "#### 53. How to convert a float (32 bits) array into an integer (32 bits) in place?"
   ]
  },
  {
   "cell_type": "code",
   "execution_count": 64,
   "id": "fc1b687b",
   "metadata": {},
   "outputs": [
    {
     "name": "stdout",
     "output_type": "stream",
     "text": [
      "[ 1  3 -2]\n"
     ]
    }
   ],
   "source": [
    "def float_to_int_array(float_array):\n",
    "  int_array = np.zeros_like(float_array, dtype=np.int32)\n",
    "  int_array = np.rint(float_array).astype(np.int32)  # Round to nearest integer\n",
    "  return int_array\n",
    "\n",
    "# Example usage:\n",
    "float_data = np.array([1.2, 3.4, -2.5], dtype=np.float32)\n",
    "int_data = float_to_int_array(float_data)\n",
    "print(int_data)  # Output: [ 1  3 -2]"
   ]
  },
  {
   "cell_type": "markdown",
   "id": "a69e1ace",
   "metadata": {},
   "source": [
    "#### 54. How to read the following file? (★★☆)\n",
    "```\n",
    "1, 2, 3, 4, 5\n",
    "6,  ,  , 7, 8\n",
    " ,  , 9,10,11\n",
    "```"
   ]
  },
  {
   "cell_type": "code",
   "execution_count": 66,
   "id": "1c7957d4",
   "metadata": {},
   "outputs": [],
   "source": [
    "def read_data(filename):\n",
    "  data = []\n",
    "  with open(filename, 'r') as f:\n",
    "    for line in f:\n",
    "      row = [int(x) if x.strip() else np.nan for x in line.split(',')]\n",
    "      data.append(row)\n",
    "\n",
    "  return np.array(data)"
   ]
  },
  {
   "cell_type": "markdown",
   "id": "c23bd80d",
   "metadata": {},
   "source": [
    "#### 55. What is the equivalent of enumerate for numpy arrays? (★★☆)"
   ]
  },
  {
   "cell_type": "code",
   "execution_count": 68,
   "id": "d95d9578",
   "metadata": {},
   "outputs": [
    {
     "name": "stdout",
     "output_type": "stream",
     "text": [
      "(0, 0) 1\n",
      "(0, 1) 2\n",
      "(0, 2) 3\n",
      "(1, 0) 4\n",
      "(1, 1) 5\n",
      "(1, 2) 6\n"
     ]
    }
   ],
   "source": [
    "arr = np.array([[1, 2, 3], [4, 5, 6]])\n",
    "\n",
    "for idx, value in np.ndenumerate(arr):\n",
    "    print(idx, value)"
   ]
  },
  {
   "cell_type": "markdown",
   "id": "2153a5ec",
   "metadata": {},
   "source": [
    "#### 56. Generate a generic 2D Gaussian-like array (★★☆)"
   ]
  },
  {
   "cell_type": "code",
   "execution_count": 70,
   "id": "61122d1e",
   "metadata": {},
   "outputs": [
    {
     "name": "stdout",
     "output_type": "stream",
     "text": [
      "[[3.52017005e-100 1.04837492e-088 2.23771871e-079 3.42318410e-072\n",
      "  3.75310669e-067 2.94908613e-064 1.66080978e-063 6.70329332e-065\n",
      "  1.93906535e-068 4.02006022e-074]\n",
      " [7.60172260e-085 2.26394043e-073 4.83229976e-064 7.39228376e-057\n",
      "  8.10474366e-052 6.36848059e-049 3.58647879e-048 1.44756008e-049\n",
      "  4.18736500e-053 8.68122339e-059]\n",
      " [1.17651179e-071 3.50388030e-060 7.47890698e-051 1.14409713e-043\n",
      "  1.25436391e-038 9.85644027e-036 5.55076105e-035 2.24037574e-036\n",
      "  6.48074724e-040 1.34358516e-045]\n",
      " [1.30501781e-060 3.88659617e-049 8.29580030e-040 1.26906262e-032\n",
      "  1.39137343e-027 1.09330227e-024 6.15705013e-024 2.48508369e-025\n",
      "  7.18861526e-029 1.49033999e-034]\n",
      " [1.03746269e-051 3.08976513e-040 6.59499298e-031 1.00887904e-023\n",
      "  1.10611366e-018 8.69153134e-016 4.89472997e-015 1.97559113e-016\n",
      "  5.71480333e-020 1.18479006e-025]\n",
      " [5.91104723e-045 1.76042452e-033 3.75756307e-024 5.74818902e-017\n",
      "  6.30219294e-012 4.95208672e-009 2.78882125e-008 1.12561276e-009\n",
      "  3.25606623e-013 6.75045962e-019]\n",
      " [2.41374986e-040 7.18861526e-029 1.53438418e-019 2.34724744e-012\n",
      "  2.57347248e-007 2.02216260e-004 1.13880276e-003 4.59638968e-005\n",
      "  1.32960017e-008 2.75652018e-014]\n",
      " [7.06408614e-038 2.10382187e-026 4.49053241e-017 6.86945998e-010\n",
      "  7.53153072e-005 5.91806592e-002 3.33282289e-001 1.34518051e-002\n",
      "  3.89121106e-006 8.06723857e-012]\n",
      " [1.48168404e-037 4.41274246e-026 9.41884070e-017 1.44086142e-009\n",
      "  1.57973001e-004 1.24130760e-001 6.99055814e-001 2.82150083e-002\n",
      "  8.16177096e-006 1.69209412e-011]\n",
      " [2.22736356e-039 6.63352071e-028 1.41590123e-018 2.16599636e-011\n",
      "  2.37475262e-006 1.86601411e-003 1.05086605e-002 4.24146307e-004\n",
      "  1.22693036e-007 2.54366565e-013]]\n"
     ]
    }
   ],
   "source": [
    "def generate_gaussian_array(shape, sigma=1.0, mean=(0, 0)):\n",
    "  x, y = np.meshgrid(np.linspace(-1, 1, shape[1]), np.linspace(-1, 1, shape[0]))\n",
    "  x = (x - mean[0]) * shape[1] / 2\n",
    "  y = (y - mean[1]) * shape[0] / 2\n",
    "  z = np.exp(-(x**2 + y**2) / (2 * sigma**2))\n",
    "  return z\n",
    "\n",
    "# Example usage:\n",
    "array_size = (10, 10)\n",
    "sigma = 0.5\n",
    "mean = (0.3, 0.7)\n",
    "gaussian_array = generate_gaussian_array(array_size, sigma, mean)\n",
    "print(gaussian_array)"
   ]
  },
  {
   "cell_type": "markdown",
   "id": "2e76d589",
   "metadata": {},
   "source": [
    "#### 57. How to randomly place p elements in a 2D array? (★★☆)"
   ]
  },
  {
   "cell_type": "code",
   "execution_count": 72,
   "id": "0c2e4fcc",
   "metadata": {},
   "outputs": [
    {
     "name": "stdout",
     "output_type": "stream",
     "text": [
      "[[1 0 1 1 1]\n",
      " [0 1 0 0 1]\n",
      " [0 0 0 0 0]\n",
      " [1 0 1 1 0]\n",
      " [1 0 0 0 0]]\n"
     ]
    }
   ],
   "source": [
    "def random_placement(shape, p, value=1):\n",
    "  arr = np.zeros(shape, dtype=int)\n",
    "  indices = np.random.choice(shape[0] * shape[1], p, replace=False)\n",
    "  arr.flat[indices] = value\n",
    "  return arr\n",
    "\n",
    "# Example usage:\n",
    "shape = (5, 5)\n",
    "num_elements = 10\n",
    "array = random_placement(shape, num_elements)\n",
    "print(array)"
   ]
  },
  {
   "cell_type": "markdown",
   "id": "8b3933eb",
   "metadata": {},
   "source": [
    "#### 58. Subtract the mean of each row of a matrix (★★☆)"
   ]
  },
  {
   "cell_type": "code",
   "execution_count": 74,
   "id": "a306c9ef",
   "metadata": {},
   "outputs": [
    {
     "name": "stdout",
     "output_type": "stream",
     "text": [
      "[[-1.  0.  1.]\n",
      " [-1.  0.  1.]\n",
      " [-1.  0.  1.]]\n"
     ]
    }
   ],
   "source": [
    "import numpy as np\n",
    "\n",
    "def subtract_row_means(matrix):\n",
    "  row_means = np.mean(matrix, axis=1, keepdims=True)\n",
    "  return matrix - row_means\n",
    "\n",
    "# Example usage:\n",
    "matrix = np.array([[1, 2, 3], [4, 5, 6], [7, 8, 9]])\n",
    "result = subtract_row_means(matrix)\n",
    "print(result)"
   ]
  },
  {
   "cell_type": "markdown",
   "id": "ea8807c0",
   "metadata": {},
   "source": [
    "#### 59. How to sort an array by the nth column? (★★☆)"
   ]
  },
  {
   "cell_type": "code",
   "execution_count": 76,
   "id": "cc89a699",
   "metadata": {},
   "outputs": [
    {
     "name": "stdout",
     "output_type": "stream",
     "text": [
      "[[3 1 2]\n",
      " [2 3 6]\n",
      " [1 5 4]]\n"
     ]
    }
   ],
   "source": [
    "def sort_by_column(arr, col_index):\n",
    "  return arr[arr[:, col_index].argsort()]\n",
    "\n",
    "# Example usage:\n",
    "data = np.array([[3, 1, 2], [1, 5, 4], [2, 3, 6]])\n",
    "sorted_data = sort_by_column(data, 1)  # Sort by the second column (index 1)\n",
    "print(sorted_data)"
   ]
  },
  {
   "cell_type": "markdown",
   "id": "00fa00a1",
   "metadata": {},
   "source": [
    "#### 60. How to tell if a given 2D array has null columns? (★★☆)"
   ]
  },
  {
   "cell_type": "code",
   "execution_count": 78,
   "id": "3436e165",
   "metadata": {},
   "outputs": [
    {
     "name": "stdout",
     "output_type": "stream",
     "text": [
      "False\n"
     ]
    }
   ],
   "source": [
    "def has_null_columns(array):\n",
    "  return np.any(np.isnan(array).all(axis=0))\n",
    "\n",
    "# Example usage:\n",
    "array = np.array([[1, 2, np.nan], [3, np.nan, 5], [4, 6, 7]])\n",
    "has_null_cols = has_null_columns(array)\n",
    "print(has_null_cols)  # Output: True"
   ]
  },
  {
   "cell_type": "markdown",
   "id": "5a65c7a2",
   "metadata": {},
   "source": [
    "#### 61. Find the nearest value from a given value in an array (★★☆)"
   ]
  },
  {
   "cell_type": "code",
   "execution_count": 80,
   "id": "73f149d6",
   "metadata": {},
   "outputs": [
    {
     "name": "stdout",
     "output_type": "stream",
     "text": [
      "8\n"
     ]
    }
   ],
   "source": [
    "def find_nearest(array, value):\n",
    "  array = np.asarray(array)\n",
    "  idx = (np.abs(array - value)).argmin()\n",
    "  return array[idx]\n",
    "\n",
    "# Example usage:\n",
    "my_array = np.array([3, 8, 2, 9, 5])\n",
    "value = 6.5\n",
    "\n",
    "closest_value = find_nearest(my_array, value)\n",
    "print(closest_value) "
   ]
  },
  {
   "cell_type": "markdown",
   "id": "dd83e8af",
   "metadata": {},
   "source": [
    "#### 62. Considering two arrays with shape (1,3) and (3,1), how to compute their sum using an iterator? (★★☆)"
   ]
  },
  {
   "cell_type": "code",
   "execution_count": 84,
   "id": "29a709a1",
   "metadata": {},
   "outputs": [
    {
     "name": "stdout",
     "output_type": "stream",
     "text": [
      "[[21.]]\n"
     ]
    }
   ],
   "source": [
    " def compute_sum_with_iterator(arr1, arr2):\n",
    "  result = np.zeros((1, 1))\n",
    "  for i in range(3):\n",
    "    result[0, 0] += arr1[0, i] + arr2[i, 0]\n",
    "  return result\n",
    "\n",
    "# Example usage:\n",
    "arr1 = np.array([[1, 2, 3]])\n",
    "arr2 = np.array([[4], [5], [6]])\n",
    "sum_result = compute_sum_with_iterator(arr1, arr2)\n",
    "print(sum_result)"
   ]
  },
  {
   "cell_type": "markdown",
   "id": "6c042efa",
   "metadata": {},
   "source": [
    "#### 63. Create an array class that has a name attribute (★★☆)"
   ]
  },
  {
   "cell_type": "code",
   "execution_count": 86,
   "id": "45b3d2e0",
   "metadata": {},
   "outputs": [
    {
     "name": "stdout",
     "output_type": "stream",
     "text": [
      "My Array:\n",
      "[[1 2 3]\n",
      " [4 5 6]]\n"
     ]
    }
   ],
   "source": [
    "class NamedArray:\n",
    "  def __init__(self, data, name):\n",
    "    self.data = np.array(data)\n",
    "    self.name = name\n",
    "\n",
    "  def __repr__(self):\n",
    "    return f\"NamedArray('{self.name}', {self.data})\"\n",
    "\n",
    "  def __str__(self):\n",
    "    return f\"{self.name}:\\n{self.data}\"\n",
    "\n",
    "# Example usage:\n",
    "array_data = [[1, 2, 3], [4, 5, 6]]\n",
    "named_array = NamedArray(array_data, \"My Array\")\n",
    "print(named_array)"
   ]
  },
  {
   "cell_type": "markdown",
   "id": "0fb2f0c5",
   "metadata": {},
   "source": [
    "#### 65. How to accumulate elements of a vector (X) to an array (F) based on an index list (I)? (★★★)"
   ]
  },
  {
   "cell_type": "code",
   "execution_count": 88,
   "id": "58aa5f82",
   "metadata": {},
   "outputs": [
    {
     "name": "stdout",
     "output_type": "stream",
     "text": [
      "[1. 0. 3. 0. 5.]\n"
     ]
    }
   ],
   "source": [
    "def accumulate_elements(X, I, F):\n",
    "  F[I] += X[I]\n",
    "  return F\n",
    "\n",
    "# Example usage:\n",
    "X = np.array([1, 2, 3, 4, 5])\n",
    "I = np.array([0, 2, 4])\n",
    "F = np.zeros(5)\n",
    "\n",
    "F = accumulate_elements(X, I, F)\n",
    "print(F)"
   ]
  },
  {
   "cell_type": "markdown",
   "id": "d89dc506",
   "metadata": {},
   "source": [
    "#### 66. Considering a (w,h,3) image of (dtype=ubyte), compute the number of unique colors (★★☆)"
   ]
  },
  {
   "cell_type": "code",
   "execution_count": null,
   "id": "8fb43a49",
   "metadata": {},
   "outputs": [],
   "source": [
    "import numpy as np\n",
    "\n",
    "def count_unique_colors(image):\n",
    "\n",
    "  # Reshape image into a 2D array of pixels\n",
    "  flattened_image = image.reshape(-1, 3)\n",
    "\n",
    "  # Find unique colors\n",
    "  unique_colors = np.unique(flattened_image, axis=0)\n",
    "\n",
    "  return len(unique_colors)\n",
    "\n",
    "# Example usage:\n",
    "import cv2  # Or any image loading library\n",
    "\n",
    "# Load an image\n",
    "img = cv2.imread('your_image.jpg')\n",
    "\n",
    "# Convert to uint8 if necessary\n",
    "img = img.astype(np.uint8)\n",
    "\n",
    "num_colors = count_unique_colors(img)\n",
    "print(num_colors)"
   ]
  },
  {
   "cell_type": "markdown",
   "id": "535a5d81",
   "metadata": {},
   "source": [
    "#### 67. Considering a four dimensions array, how to get sum over the last two axis at once? (★★★)"
   ]
  },
  {
   "cell_type": "code",
   "execution_count": 93,
   "id": "f954ab9d",
   "metadata": {},
   "outputs": [
    {
     "name": "stdout",
     "output_type": "stream",
     "text": [
      "(2, 3)\n"
     ]
    }
   ],
   "source": [
    "def sum_over_last_two_axes(array):\n",
    "  return np.sum(array, axis=(-2, -1))\n",
    "\n",
    "# Example usage:\n",
    "array = np.random.rand(2, 3, 4, 5)\n",
    "result = sum_over_last_two_axes(array)\n",
    "print(result.shape)  # Output: (2, 3)"
   ]
  },
  {
   "cell_type": "markdown",
   "id": "eee66d3c",
   "metadata": {},
   "source": [
    "#### 68. Considering a one-dimensional vector D, how to compute means of subsets of D using a vector S of same size describing subset  indices? (★★★)"
   ]
  },
  {
   "cell_type": "code",
   "execution_count": 95,
   "id": "8929773a",
   "metadata": {},
   "outputs": [
    {
     "name": "stdout",
     "output_type": "stream",
     "text": [
      "[1.5, 3.5, 5.5]\n"
     ]
    }
   ],
   "source": [
    "def compute_subset_means(D, S):\n",
    "  unique_subsets = np.unique(S)\n",
    "  subset_means = []\n",
    "  for s in unique_subsets:\n",
    "    subset_indices = np.where(S == s)[0]\n",
    "    subset_mean = np.mean(D[subset_indices])\n",
    "    subset_means.append(subset_mean)\n",
    "  return subset_means\n",
    "\n",
    "# Example usage:\n",
    "D = np.array([1, 2, 3, 4, 5, 6])\n",
    "S = np.array([0, 0, 1, 1, 2, 2])\n",
    "means = compute_subset_means(D, S)\n",
    "print(means)"
   ]
  },
  {
   "cell_type": "markdown",
   "id": "f90d4c40",
   "metadata": {},
   "source": [
    "#### 69. How to get the diagonal of a dot product? (★★★)"
   ]
  },
  {
   "cell_type": "code",
   "execution_count": 97,
   "id": "b47d392d",
   "metadata": {},
   "outputs": [
    {
     "name": "stdout",
     "output_type": "stream",
     "text": [
      "[1.2059158  0.55292017 1.15543865]\n"
     ]
    }
   ],
   "source": [
    "def diagonal_of_dot_product(A, B):\n",
    "  dot_product = np.dot(A, B)\n",
    "  diagonal = np.diag(dot_product)\n",
    "  return diagonal\n",
    "\n",
    "# Example usage:\n",
    "A = np.random.rand(3, 4)\n",
    "B = np.random.rand(4, 3)\n",
    "diagonal_result = diagonal_of_dot_product(A, B)\n",
    "print(diagonal_result)"
   ]
  },
  {
   "cell_type": "markdown",
   "id": "a8a97e7d",
   "metadata": {},
   "source": [
    "#### 70. Consider the vector [1, 2, 3, 4, 5], how to build a new vector with 3 consecutive zeros interleaved between each value? (★★★)"
   ]
  },
  {
   "cell_type": "code",
   "execution_count": 99,
   "id": "ee6c6c37",
   "metadata": {},
   "outputs": [
    {
     "name": "stdout",
     "output_type": "stream",
     "text": [
      "[1. 0. 0. 0. 2. 0. 0. 0. 3. 0. 0. 0. 4. 0. 0. 0. 5.]\n"
     ]
    }
   ],
   "source": [
    "def interleave_zeros(vector):\n",
    "  result = np.zeros(len(vector) * 4 - 3)  # Calculate the length of the output vector\n",
    "  result[::4] = vector  # Assign original values to every fourth position\n",
    "  return result\n",
    "\n",
    "# Example usage:\n",
    "vector = np.array([1, 2, 3, 4, 5])\n",
    "interleaved_vector = interleave_zeros(vector)\n",
    "print(interleaved_vector)"
   ]
  },
  {
   "cell_type": "markdown",
   "id": "d6a30d60",
   "metadata": {},
   "source": [
    "#### 71. Consider an array of dimension (5,5,3), how to mulitply it by an array with dimensions (5,5)? (★★★)"
   ]
  },
  {
   "cell_type": "code",
   "execution_count": 101,
   "id": "e9703f2e",
   "metadata": {},
   "outputs": [
    {
     "name": "stdout",
     "output_type": "stream",
     "text": [
      "(5, 5, 3)\n"
     ]
    }
   ],
   "source": [
    "def multiply_arrays(array1, array2):\n",
    "  return array1 * array2[:, :, np.newaxis]\n",
    "\n",
    "# Example usage:\n",
    "array1 = np.random.rand(5, 5, 3)\n",
    "array2 = np.random.rand(5, 5)\n",
    "result = multiply_arrays(array1, array2)\n",
    "print(result.shape)  # Output: (5, 5, 3)"
   ]
  },
  {
   "cell_type": "markdown",
   "id": "bac359a9",
   "metadata": {},
   "source": [
    "#### 72. How to swap two rows of an array? (★★★)"
   ]
  },
  {
   "cell_type": "code",
   "execution_count": 103,
   "id": "f1b432b1",
   "metadata": {},
   "outputs": [
    {
     "name": "stdout",
     "output_type": "stream",
     "text": [
      "[[7 8 9]\n",
      " [4 5 6]\n",
      " [1 2 3]]\n"
     ]
    }
   ],
   "source": [
    "def swap_rows(arr, row1, row2):\n",
    "  arr[[row1, row2]] = arr[[row2, row1]]\n",
    "  return arr\n",
    "\n",
    "# Example usage:\n",
    "array = np.array([[1, 2, 3], [4, 5, 6], [7, 8, 9]])\n",
    "array = swap_rows(array, 0, 2)\n",
    "print(array)"
   ]
  },
  {
   "cell_type": "markdown",
   "id": "620c9f83",
   "metadata": {},
   "source": [
    "#### 73. Consider a set of 10 triplets describing 10 triangles (with shared vertices), find the set of unique line segments composing all the  triangles (★★★)"
   ]
  },
  {
   "cell_type": "code",
   "execution_count": 105,
   "id": "4e595ffc",
   "metadata": {},
   "outputs": [
    {
     "name": "stdout",
     "output_type": "stream",
     "text": [
      "[[0 0 1 1 2 2]\n",
      " [1 1 2 2 3 3]\n",
      " [2 2 3 3 4 4]]\n"
     ]
    }
   ],
   "source": [
    "import numpy as np\n",
    "\n",
    "def find_unique_line_segments(triangles):\n",
    "  \"\"\"Finds unique line segments from a set of triangles.\n",
    "\n",
    "  Args:\n",
    "    triangles: A NumPy array of shape (n, 3) where each row represents a triangle.\n",
    "\n",
    "  Returns:\n",
    "    A NumPy array of shape (m, 2) where each row represents a unique line segment.\n",
    "  \"\"\"\n",
    "\n",
    "  # Create all possible edges for each triangle\n",
    "  edges = np.roll(triangles.repeat(2, axis=1), -1, axis=1)\n",
    "\n",
    "  # Sort each edge to ensure consistency (e.g., (0, 1) and (1, 0) are considered the same)\n",
    "  edges = np.sort(edges, axis=1)\n",
    "\n",
    "  # Find unique edges\n",
    "  unique_edges = np.unique(edges, axis=0)\n",
    "\n",
    "  return unique_edges\n",
    "\n",
    "# Example usage:\n",
    "triangles = np.array([[0, 1, 2], [1, 2, 3], [2, 3, 4]])\n",
    "unique_segments = find_unique_line_segments(triangles)\n",
    "print(unique_segments)"
   ]
  },
  {
   "cell_type": "markdown",
   "id": "a76c55a2",
   "metadata": {},
   "source": [
    "#### 74. Given a sorted array C that corresponds to a bincount, how to produce an array A such that np.bincount(A) == C? (★★★)"
   ]
  },
  {
   "cell_type": "code",
   "execution_count": 107,
   "id": "2d2ae65a",
   "metadata": {},
   "outputs": [
    {
     "name": "stdout",
     "output_type": "stream",
     "text": [
      "[1 1 2 3 3 3]\n"
     ]
    }
   ],
   "source": [
    "def reconstruct_array(C):\n",
    "  \"\"\"Reconstructs an array from its bincount.\n",
    "\n",
    "  Args:\n",
    "    C: The bincount array.\n",
    "\n",
    "  Returns:\n",
    "    The reconstructed array.\n",
    "  \"\"\"\n",
    "\n",
    "  return np.repeat(np.arange(len(C)), C)\n",
    "\n",
    "# Example usage:\n",
    "C = np.array([0, 2, 1, 3])\n",
    "A = reconstruct_array(C)\n",
    "print(A)"
   ]
  },
  {
   "cell_type": "markdown",
   "id": "d550c8e2",
   "metadata": {},
   "source": [
    "#### 75. How to compute averages using a sliding window over an array? (★★★)"
   ]
  },
  {
   "cell_type": "code",
   "execution_count": 109,
   "id": "841c457c",
   "metadata": {},
   "outputs": [
    {
     "name": "stdout",
     "output_type": "stream",
     "text": [
      "[3. 5. 7. 9.]\n"
     ]
    }
   ],
   "source": [
    "def sliding_window_average(array, window_size):\n",
    "  \"\"\"Computes the average of elements within a sliding window.\n",
    "\n",
    "  Args:\n",
    "    array: The input array.\n",
    "    window_size: The size of the sliding window.\n",
    "\n",
    "  Returns:\n",
    "    A NumPy array containing the averages.\n",
    "  \"\"\"\n",
    "\n",
    "  cumsum = np.cumsum(array)\n",
    "  cumsum[window_size:] = cumsum[window_size:] - cumsum[:-window_size]\n",
    "  return cumsum[window_size - 1:] / window_size\n",
    "\n",
    "# Example usage:\n",
    "array = np.array([1, 3, 5, 7, 9, 11])\n",
    "window_size = 3\n",
    "averages = sliding_window_average(array, window_size)\n",
    "print(averages)"
   ]
  },
  {
   "cell_type": "markdown",
   "id": "6b170b00",
   "metadata": {},
   "source": [
    "#### 76. Consider a one-dimensional array Z, build a two-dimensional array whose first row is (Z[0],Z[1],Z[2]) and each subsequent row is  shifted by 1 (last row should be (Z[-3],Z[-2],Z[-1]) (★★★)"
   ]
  },
  {
   "cell_type": "code",
   "execution_count": 111,
   "id": "d9a0cf4e",
   "metadata": {},
   "outputs": [
    {
     "name": "stdout",
     "output_type": "stream",
     "text": [
      "[[1 2 3]\n",
      " [2 3 4]\n",
      " [3 4 5]\n",
      " [4 5 6]\n",
      " [5 6 7]]\n"
     ]
    }
   ],
   "source": [
    "import numpy as np\n",
    "\n",
    "def create_shifted_array(Z, window_size):\n",
    "  return np.lib.stride_tricks.sliding_window_view(Z, window_size)\n",
    "\n",
    "# Example usage:\n",
    "Z = np.array([1, 2, 3, 4, 5, 6, 7])\n",
    "window_size = 3\n",
    "result = create_shifted_array(Z, window_size)\n",
    "print(result)"
   ]
  },
  {
   "cell_type": "markdown",
   "id": "e94a5c1d",
   "metadata": {},
   "source": [
    "#### 77. How to negate a boolean, or to change the sign of a float inplace? (★★★)"
   ]
  },
  {
   "cell_type": "code",
   "execution_count": 113,
   "id": "c0f9504f",
   "metadata": {},
   "outputs": [],
   "source": [
    "my_bool = True\n",
    "negated_bool = not my_bool  # negated_bool will be False"
   ]
  },
  {
   "cell_type": "markdown",
   "id": "4eb8b5c1",
   "metadata": {},
   "source": [
    "#### 78. Consider 2 sets of points P0,P1 describing lines (2d) and a point p, how to compute distance from p to each line i (P0[i],P1[i])? (★★★)"
   ]
  },
  {
   "cell_type": "code",
   "execution_count": 115,
   "id": "487f47ec",
   "metadata": {},
   "outputs": [
    {
     "name": "stdout",
     "output_type": "stream",
     "text": [
      "[6.28036983e-16 1.41421356e+00 1.41421356e+00]\n"
     ]
    }
   ],
   "source": [
    "def point_to_line_distance(P0, P1, p):\n",
    "  \"\"\"Computes the distance from a point to multiple lines.\n",
    "\n",
    "  Args:\n",
    "    P0: Array of starting points of the lines (shape: N, 2).\n",
    "    P1: Array of ending points of the lines (shape: N, 2).\n",
    "    p: The point to calculate distances from (shape: 2).\n",
    "\n",
    "  Returns:\n",
    "    An array of distances, one for each line.\n",
    "  \"\"\"\n",
    "\n",
    "  # Calculate line vectors\n",
    "  line_vecs = P1 - P0\n",
    "\n",
    "  # Calculate vectors from P0 to p\n",
    "  p0_to_p = p - P0\n",
    "\n",
    "  # Calculate dot products\n",
    "  dot_products = np.sum(p0_to_p * line_vecs, axis=1)\n",
    "\n",
    "  # Calculate line lengths\n",
    "  line_lengths = np.linalg.norm(line_vecs, axis=1)\n",
    "\n",
    "  # Calculate parameters\n",
    "  u = dot_products / line_lengths**2\n",
    "\n",
    "  # Calculate closest points on lines\n",
    "  closest_points = P0 + u[:, np.newaxis] * line_vecs\n",
    "\n",
    "  # Calculate distances\n",
    "  distances = np.linalg.norm(closest_points - p, axis=1)\n",
    "\n",
    "  return distances\n",
    "\n",
    "# Example usage:\n",
    "P0 = np.array([[0, 0], [1, 1], [2, 0]])\n",
    "P1 = np.array([[1, 1], [2, 0], [3, 1]])\n",
    "p = np.array([2, 2])\n",
    "distances = point_to_line_distance(P0, P1, p)\n",
    "print(distances)"
   ]
  },
  {
   "cell_type": "markdown",
   "id": "3df99948",
   "metadata": {},
   "source": [
    "#### 79. Consider 2 sets of points P0,P1 describing lines (2d) and a set of points P, how to compute distance from each point j (P[j]) to each line i (P0[i],P1[i])? (★★★)"
   ]
  },
  {
   "cell_type": "code",
   "execution_count": 117,
   "id": "dc2df37b",
   "metadata": {},
   "outputs": [
    {
     "name": "stdout",
     "output_type": "stream",
     "text": [
      "(5, 10)\n"
     ]
    }
   ],
   "source": [
    "def point_to_lines_distance(P0, P1, P):\n",
    "  \"\"\"Computes distances from multiple points to multiple lines.\n",
    "\n",
    "  Args:\n",
    "    P0: Array of starting points of the lines (shape: N, 2).\n",
    "    P1: Array of ending points of the lines (shape: N, 2).\n",
    "    P: Array of points to calculate distances from (shape: M, 2).\n",
    "\n",
    "  Returns:\n",
    "    A matrix of distances with shape (M, N).\n",
    "  \"\"\"\n",
    "\n",
    "  # Calculate line vectors\n",
    "  line_vecs = P1 - P0\n",
    "\n",
    "  # Calculate vectors from P0 to points in P\n",
    "  P0_to_P = P[:, np.newaxis, :] - P0[np.newaxis, :, :]\n",
    "\n",
    "  # Calculate dot products\n",
    "  dot_products = np.sum(P0_to_P * line_vecs, axis=2)\n",
    "\n",
    "  # Calculate line lengths\n",
    "  line_lengths = np.linalg.norm(line_vecs, axis=1)\n",
    "\n",
    "  # Calculate parameters\n",
    "  u = dot_products / line_lengths**2\n",
    "\n",
    "  # Calculate closest points on lines\n",
    "  closest_points = P0 + u[:, :, np.newaxis] * line_vecs\n",
    "\n",
    "  # Calculate distances\n",
    "  distances = np.linalg.norm(closest_points - P[:, np.newaxis, :], axis=2)\n",
    "\n",
    "  return distances\n",
    "\n",
    "# Example usage:\n",
    "P0 = np.random.rand(10, 2)\n",
    "P1 = np.random.rand(10, 2)\n",
    "P = np.random.rand(5, 2)\n",
    "distances = point_to_lines_distance(P0, P1, P)\n",
    "print(distances.shape)  # Output: (5, 10)"
   ]
  },
  {
   "cell_type": "markdown",
   "id": "11e972c2",
   "metadata": {},
   "source": [
    "#### 80. Consider an arbitrary array, write a function that extract a subpart with a fixed shape and centered on a given element (pad with a `fill` value when necessary) (★★★)"
   ]
  },
  {
   "cell_type": "code",
   "execution_count": 119,
   "id": "0291247f",
   "metadata": {},
   "outputs": [
    {
     "name": "stdout",
     "output_type": "stream",
     "text": [
      "[[ 6  7]\n",
      " [11 12]]\n"
     ]
    }
   ],
   "source": [
    "def extract_subarray(array, shape, center, fill_value=0):\n",
    "  \"\"\"Extracts a subarray with a fixed shape centered on a given element.\n",
    "\n",
    "  Args:\n",
    "    array: The input array.\n",
    "    shape: The desired shape of the subarray.\n",
    "    center: The coordinates of the center element in the array.\n",
    "    fill_value: The value to use for padding.\n",
    "\n",
    "  Returns:\n",
    "    The extracted subarray.\n",
    "  \"\"\"\n",
    "\n",
    "  array_shape = np.array(array.shape)\n",
    "  subarray_shape = np.array(shape)\n",
    "  start = np.maximum(center - subarray_shape // 2, 0)\n",
    "  end = np.minimum(center + subarray_shape // 2, array_shape)\n",
    "\n",
    "  slices = tuple(slice(s, e) for s, e in zip(start, end))\n",
    "  subarray = array[slices]\n",
    "\n",
    "  # Padding if necessary\n",
    "  pad_width = []\n",
    "  for i in range(len(shape)):\n",
    "    pad_width.append((max(0, -start[i]), max(0, end[i] - array_shape[i])))\n",
    "  subarray = np.pad(subarray, pad_width, mode='constant', constant_values=fill_value)\n",
    "\n",
    "  return subarray\n",
    "\n",
    "# Example usage:\n",
    "array = np.arange(25).reshape(5, 5)\n",
    "shape = (3, 3)\n",
    "center = (2, 2)\n",
    "fill_value = -1\n",
    "subarray = extract_subarray(array, shape, center, fill_value)\n",
    "print(subarray)"
   ]
  },
  {
   "cell_type": "markdown",
   "id": "93cfeab3",
   "metadata": {},
   "source": [
    "#### 81. Consider an array Z = [1,2,3,4,5,6,7,8,9,10,11,12,13,14], how to generate an array R = [[1,2,3,4], [2,3,4,5], [3,4,5,6], ..., [11,12,13,14]]? (★★★)"
   ]
  },
  {
   "cell_type": "code",
   "execution_count": 121,
   "id": "360de791",
   "metadata": {},
   "outputs": [
    {
     "name": "stdout",
     "output_type": "stream",
     "text": [
      "[[ 1  2  3  4]\n",
      " [ 2  3  4  5]\n",
      " [ 3  4  5  6]\n",
      " [ 4  5  6  7]\n",
      " [ 5  6  7  8]\n",
      " [ 6  7  8  9]\n",
      " [ 7  8  9 10]\n",
      " [ 8  9 10 11]\n",
      " [ 9 10 11 12]\n",
      " [10 11 12 13]\n",
      " [11 12 13 14]]\n"
     ]
    }
   ],
   "source": [
    "import numpy as np\n",
    "\n",
    "def create_shifted_array(Z, window_size):\n",
    "  \"\"\"Creates a 2D array with shifted rows from a 1D array.\n",
    "\n",
    "  Args:\n",
    "    Z: The input 1D array.\n",
    "    window_size: The size of each row in the output array.\n",
    "\n",
    "  Returns:\n",
    "    The resulting 2D array.\n",
    "  \"\"\"\n",
    "\n",
    "  return np.lib.stride_tricks.sliding_window_view(Z, window_size)\n",
    "\n",
    "# Example usage:\n",
    "Z = np.array([1, 2, 3, 4, 5, 6, 7, 8, 9, 10, 11, 12, 13, 14])\n",
    "window_size = 4\n",
    "result = create_shifted_array(Z, window_size)\n",
    "print(result)"
   ]
  },
  {
   "cell_type": "markdown",
   "id": "4c15ceff",
   "metadata": {},
   "source": [
    "#### 82. Compute a matrix rank (★★★)"
   ]
  },
  {
   "cell_type": "code",
   "execution_count": 123,
   "id": "9a4272d2",
   "metadata": {},
   "outputs": [
    {
     "name": "stdout",
     "output_type": "stream",
     "text": [
      "Rank of the matrix: 2\n"
     ]
    }
   ],
   "source": [
    "# Create a sample matrix\n",
    "A = np.array([[1, 2, 3],\n",
    "             [4, 5, 6],\n",
    "             [7, 8, 9]])\n",
    "\n",
    "# Calculate the rank\n",
    "rank = np.linalg.matrix_rank(A)\n",
    "\n",
    "print(\"Rank of the matrix:\", rank)"
   ]
  },
  {
   "cell_type": "markdown",
   "id": "1171cb84",
   "metadata": {},
   "source": [
    "#### 83. How to find the most frequent value in an array?"
   ]
  },
  {
   "cell_type": "code",
   "execution_count": 125,
   "id": "33e951c8",
   "metadata": {},
   "outputs": [
    {
     "name": "stdout",
     "output_type": "stream",
     "text": [
      "2\n"
     ]
    }
   ],
   "source": [
    "def find_most_frequent(arr):\n",
    "  \"\"\"Finds the most frequent value in a NumPy array.\n",
    "\n",
    "  Args:\n",
    "    arr: The input NumPy array.\n",
    "\n",
    "  Returns:\n",
    "    The most frequent value in the array.\n",
    "  \"\"\"\n",
    "\n",
    "  counts = np.bincount(arr)\n",
    "  return np.argmax(counts)\n",
    "\n",
    "# Example usage:\n",
    "arr = np.array([1, 2, 2, 3, 2, 4, 5, 2, 2])\n",
    "most_frequent = find_most_frequent(arr)\n",
    "print(most_frequent)  # Output: 2"
   ]
  },
  {
   "cell_type": "markdown",
   "id": "04f472aa",
   "metadata": {},
   "source": [
    "#### 84. Extract all the contiguous 3x3 blocks from a random 10x10 matrix (★★★)"
   ]
  },
  {
   "cell_type": "code",
   "execution_count": 127,
   "id": "7aade14a",
   "metadata": {},
   "outputs": [
    {
     "name": "stdout",
     "output_type": "stream",
     "text": [
      "(8, 8, 3, 3)\n"
     ]
    }
   ],
   "source": [
    "def extract_blocks(arr, block_size):\n",
    "  \"\"\"Extracts contiguous blocks from a 2D array.\n",
    "\n",
    "  Args:\n",
    "    arr: The input 2D array.\n",
    "    block_size: The size of the blocks to extract.\n",
    "\n",
    "  Returns:\n",
    "    A 4D array containing the extracted blocks.\n",
    "  \"\"\"\n",
    "\n",
    "  shape = (arr.shape[0] - block_size + 1, arr.shape[1] - block_size + 1, block_size, block_size)\n",
    "  strides = arr.strides + arr.strides\n",
    "  return np.lib.stride_tricks.as_strided(arr, shape=shape, strides=strides)\n",
    "\n",
    "# Example usage:\n",
    "matrix = np.random.randint(0, 10, size=(10, 10))\n",
    "blocks = extract_blocks(matrix, 3)\n",
    "print(blocks.shape)  # Output: (8, 8, 3, 3)"
   ]
  },
  {
   "cell_type": "markdown",
   "id": "52836346",
   "metadata": {},
   "source": [
    "#### 85. Create a 2D array subclass such that Z[i,j] == Z[j,i] (★★★)"
   ]
  },
  {
   "cell_type": "code",
   "execution_count": 129,
   "id": "4df70318",
   "metadata": {},
   "outputs": [
    {
     "name": "stdout",
     "output_type": "stream",
     "text": [
      "[[1 2 3]\n",
      " [2 4 7]\n",
      " [3 7 6]]\n"
     ]
    }
   ],
   "source": [
    "class SymmetricArray(np.ndarray):\n",
    "    def __new__(cls, input_array):\n",
    "        obj = np.asarray(input_array).view(cls)\n",
    "        if not np.allclose(obj, obj.T):\n",
    "            raise ValueError(\"Input array is not symmetric\")\n",
    "        return obj\n",
    "\n",
    "    def __setitem__(self, key, value):\n",
    "        i, j = key\n",
    "        super().__setitem__((i, j), value)\n",
    "        super().__setitem__((j, i), value)\n",
    "\n",
    "# Example usage:\n",
    "data = np.array([[1, 2, 3],\n",
    "                 [2, 4, 5],\n",
    "                 [3, 5, 6]])\n",
    "\n",
    "symmetric_array = SymmetricArray(data)\n",
    "symmetric_array[1, 2] = 7  # This will also set symmetric_array[2, 1] to 7\n",
    "\n",
    "print(symmetric_array)"
   ]
  },
  {
   "cell_type": "markdown",
   "id": "78c43ee5",
   "metadata": {},
   "source": [
    "#### 86. Consider a set of p matrices with shape (n,n) and a set of p vectors with shape (n,1). How to compute the sum of of the p matrix products at once? (result has shape (n,1)) (★★★)"
   ]
  },
  {
   "cell_type": "code",
   "execution_count": null,
   "id": "32fd2c3b",
   "metadata": {},
   "outputs": [],
   "source": []
  },
  {
   "cell_type": "markdown",
   "id": "158f9945",
   "metadata": {},
   "source": [
    "#### 87. Consider a 16x16 array, how to get the block-sum (block size is 4x4)? (★★★)"
   ]
  },
  {
   "cell_type": "code",
   "execution_count": null,
   "id": "5a9b808f",
   "metadata": {},
   "outputs": [],
   "source": []
  },
  {
   "cell_type": "markdown",
   "id": "2e0ad860",
   "metadata": {},
   "source": [
    "#### 88. How to implement the Game of Life using numpy arrays? (★★★)"
   ]
  },
  {
   "cell_type": "code",
   "execution_count": null,
   "id": "574acff5",
   "metadata": {},
   "outputs": [],
   "source": []
  },
  {
   "cell_type": "markdown",
   "id": "69a892fa",
   "metadata": {},
   "source": [
    "#### 89. How to get the n largest values of an array (★★★)"
   ]
  },
  {
   "cell_type": "code",
   "execution_count": null,
   "id": "21b2bd48",
   "metadata": {},
   "outputs": [],
   "source": []
  },
  {
   "cell_type": "markdown",
   "id": "b55ccacc",
   "metadata": {},
   "source": [
    "#### 90. Given an arbitrary number of vectors, build the cartesian product (every combinations of every item) (★★★)"
   ]
  },
  {
   "cell_type": "code",
   "execution_count": null,
   "id": "4b645da4",
   "metadata": {},
   "outputs": [],
   "source": []
  },
  {
   "cell_type": "markdown",
   "id": "89187a23",
   "metadata": {},
   "source": [
    "#### 91. How to create a record array from a regular array? (★★★)"
   ]
  },
  {
   "cell_type": "code",
   "execution_count": null,
   "id": "da94c71a",
   "metadata": {},
   "outputs": [],
   "source": []
  },
  {
   "cell_type": "markdown",
   "id": "aa70d4ca",
   "metadata": {},
   "source": [
    "#### 92. Consider a large vector Z, compute Z to the power of 3 using 3 different methods (★★★)"
   ]
  },
  {
   "cell_type": "code",
   "execution_count": null,
   "id": "7cff1bf5",
   "metadata": {},
   "outputs": [],
   "source": []
  },
  {
   "cell_type": "markdown",
   "id": "5f79dd00",
   "metadata": {},
   "source": [
    "#### 93. Consider two arrays A and B of shape (8,3) and (2,2). How to find rows of A that contain elements of each row of B regardless of the order of the elements in B? (★★★)"
   ]
  },
  {
   "cell_type": "code",
   "execution_count": null,
   "id": "20c105b2",
   "metadata": {},
   "outputs": [],
   "source": []
  },
  {
   "cell_type": "markdown",
   "id": "a80570cd",
   "metadata": {},
   "source": [
    "#### 94. Considering a 10x3 matrix, extract rows with unequal values (e.g. [2,2,3]) (★★★)"
   ]
  },
  {
   "cell_type": "code",
   "execution_count": null,
   "id": "84db8de1",
   "metadata": {},
   "outputs": [],
   "source": []
  },
  {
   "cell_type": "markdown",
   "id": "ba154f43",
   "metadata": {},
   "source": [
    "#### 95. Convert a vector of ints into a matrix binary representation (★★★)"
   ]
  },
  {
   "cell_type": "code",
   "execution_count": null,
   "id": "cfa96e1b",
   "metadata": {},
   "outputs": [],
   "source": []
  },
  {
   "cell_type": "markdown",
   "id": "420e2343",
   "metadata": {},
   "source": [
    "#### 96. Given a two dimensional array, how to extract unique rows? (★★★)"
   ]
  },
  {
   "cell_type": "code",
   "execution_count": null,
   "id": "4680dfd0",
   "metadata": {},
   "outputs": [],
   "source": []
  },
  {
   "cell_type": "markdown",
   "id": "89fef2f3",
   "metadata": {},
   "source": [
    "#### 97. Considering 2 vectors A & B, write the einsum equivalent of inner, outer, sum, and mul function (★★★)"
   ]
  },
  {
   "cell_type": "code",
   "execution_count": null,
   "id": "bb9c14b2",
   "metadata": {},
   "outputs": [],
   "source": []
  },
  {
   "cell_type": "markdown",
   "id": "7ad5cc5f",
   "metadata": {},
   "source": [
    "#### 98. Considering a path described by two vectors (X,Y), how to sample it using equidistant samples (★★★)?"
   ]
  },
  {
   "cell_type": "code",
   "execution_count": null,
   "id": "0899d1d5",
   "metadata": {},
   "outputs": [],
   "source": []
  },
  {
   "cell_type": "markdown",
   "id": "2b69272e",
   "metadata": {},
   "source": [
    "#### 99. Given an integer n and a 2D array X, select from X the rows which can be interpreted as draws from a multinomial distribution with n degrees, i.e., the rows which only contain integers and which sum to n. (★★★)"
   ]
  },
  {
   "cell_type": "code",
   "execution_count": null,
   "id": "55c8b034",
   "metadata": {},
   "outputs": [],
   "source": []
  },
  {
   "cell_type": "markdown",
   "id": "59ab5516",
   "metadata": {},
   "source": [
    "#### 100. Compute bootstrapped 95% confidence intervals for the mean of a 1D array X (i.e., resample the elements of an array with replacement N times, compute the mean of each sample, and then compute percentiles over the means). (★★★)"
   ]
  },
  {
   "cell_type": "code",
   "execution_count": null,
   "id": "450877d8",
   "metadata": {},
   "outputs": [],
   "source": []
  }
 ],
 "metadata": {
  "kernelspec": {
   "display_name": "Python 3 (ipykernel)",
   "language": "python",
   "name": "python3"
  },
  "language_info": {
   "codemirror_mode": {
    "name": "ipython",
    "version": 3
   },
   "file_extension": ".py",
   "mimetype": "text/x-python",
   "name": "python",
   "nbconvert_exporter": "python",
   "pygments_lexer": "ipython3",
   "version": "3.12.4"
  }
 },
 "nbformat": 4,
 "nbformat_minor": 5
}
