{
 "cells": [
  {
   "cell_type": "code",
   "execution_count": 30,
   "id": "6e2fe461-1755-471d-bff8-786714d0f89a",
   "metadata": {},
   "outputs": [
    {
     "ename": "SyntaxError",
     "evalue": "incomplete input (16333951.py, line 8)",
     "output_type": "error",
     "traceback": [
      "\u001b[1;36m  Cell \u001b[1;32mIn[30], line 8\u001b[1;36m\u001b[0m\n\u001b[1;33m    print(a.split(\" \")\u001b[0m\n\u001b[1;37m                      ^\u001b[0m\n\u001b[1;31mSyntaxError\u001b[0m\u001b[1;31m:\u001b[0m incomplete input\n"
     ]
    }
   ],
   "source": [
    "# strings are immutable\n",
    "a =\"Harry Harry Harry\"\n",
    "print(len(a))\n",
    "print(a.upper())\n",
    "print(a.lower())\n",
    "print(a.rstrip())\n",
    "print(a.replace(\"Harry\",\"John\"))\n",
    "print(a.split(\" \")\n"
   ]
  },
  {
   "cell_type": "code",
   "execution_count": 36,
   "id": "350f425f-4248-4848-9528-62e1dec2e08a",
   "metadata": {},
   "outputs": [
    {
     "name": "stdout",
     "output_type": "stream",
     "text": [
      "3\n"
     ]
    }
   ],
   "source": [
    "a =\"Harry Harry Harry\"\n",
    "print(a.count(\"Harry\"))"
   ]
  },
  {
   "cell_type": "code",
   "execution_count": 38,
   "id": "d1ec2184-2886-460e-96ff-a4783cdb793c",
   "metadata": {},
   "outputs": [
    {
     "name": "stdout",
     "output_type": "stream",
     "text": [
      "True\n"
     ]
    }
   ],
   "source": [
    "str1 = \"Welcome to the console !!!\"\n",
    "print(str1.endswith(\"!!!\"))"
   ]
  },
  {
   "cell_type": "code",
   "execution_count": 49,
   "id": "5aba3a2b-837d-472b-8a2b-fe6aca4f3285",
   "metadata": {},
   "outputs": [
    {
     "name": "stdout",
     "output_type": "stream",
     "text": [
      "False\n",
      "True\n"
     ]
    }
   ],
   "source": [
    "str1 = \"Welcome to the console !!!\"\n",
    "print(str1.isalnum())\n",
    "print(str1.endswith(\"!!!\"))"
   ]
  },
  {
   "cell_type": "code",
   "execution_count": 48,
   "id": "8e3ec37e-7a45-4bb7-9627-d38f744a3a01",
   "metadata": {},
   "outputs": [
    {
     "name": "stdout",
     "output_type": "stream",
     "text": [
      "33\n",
      "10\n"
     ]
    }
   ],
   "source": [
    "str2 = \"He's name is Dan.He is an honest man.\"\n",
    "print(str2.index(\"man\"))\n",
    "print(str2.find(\"is\"))"
   ]
  },
  {
   "cell_type": "code",
   "execution_count": 55,
   "id": "080c55fd-e94d-4c0a-b58b-0c8dcf9e7914",
   "metadata": {},
   "outputs": [
    {
     "name": "stdout",
     "output_type": "stream",
     "text": [
      "False\n"
     ]
    }
   ],
   "source": [
    "str1 = \"welcome00\"\n",
    "print(str1.isalpha())"
   ]
  },
  {
   "cell_type": "code",
   "execution_count": 64,
   "id": "ea949ed8-52f9-4a50-b608-cdaa6cbe3231",
   "metadata": {},
   "outputs": [
    {
     "name": "stdout",
     "output_type": "stream",
     "text": [
      "True\n",
      "False\n"
     ]
    }
   ],
   "source": [
    "str1 = \"HELLO WORLD\"\n",
    "print(str1.isupper())\n",
    "print(str1.islower())"
   ]
  },
  {
   "cell_type": "code",
   "execution_count": 69,
   "id": "8e7e5c65-bce4-45b6-97d7-439a786c534f",
   "metadata": {},
   "outputs": [
    {
     "name": "stdout",
     "output_type": "stream",
     "text": [
      "False\n",
      "True\n"
     ]
    }
   ],
   "source": [
    "str1 = \"world health organization\"\n",
    "print(str1.istitle())\n",
    "str1 = \"World Health Organization\"\n",
    "print(str1.istitle())\n"
   ]
  },
  {
   "cell_type": "code",
   "execution_count": 78,
   "id": "3656fb69-1943-4944-8308-cfb59be80de5",
   "metadata": {},
   "outputs": [
    {
     "name": "stdout",
     "output_type": "stream",
     "text": [
      "False\n",
      "True\n"
     ]
    }
   ],
   "source": [
    "str2 = \"To kil a Mocking bird\"\n",
    "print(str2.istitle())\n",
    "str2 =\"python is interpreted language\"\n",
    "print(str2.startswith(\"python\"))"
   ]
  },
  {
   "cell_type": "code",
   "execution_count": null,
   "id": "7baf1911-e508-4847-8586-6c71d00d2fa5",
   "metadata": {},
   "outputs": [],
   "source": []
  }
 ],
 "metadata": {
  "kernelspec": {
   "display_name": "Python 3 (ipykernel)",
   "language": "python",
   "name": "python3"
  },
  "language_info": {
   "codemirror_mode": {
    "name": "ipython",
    "version": 3
   },
   "file_extension": ".py",
   "mimetype": "text/x-python",
   "name": "python",
   "nbconvert_exporter": "python",
   "pygments_lexer": "ipython3",
   "version": "3.12.4"
  }
 },
 "nbformat": 4,
 "nbformat_minor": 5
}
